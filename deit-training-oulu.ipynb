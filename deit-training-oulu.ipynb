{
 "cells": [
  {
   "cell_type": "code",
   "execution_count": 1,
   "id": "76ff1da1",
   "metadata": {
    "_cell_guid": "b1076dfc-b9ad-4769-8c92-a6c4dae69d19",
    "_kg_hide-output": true,
    "_uuid": "8f2839f25d086af736a60e9eeb907d3b93b6e0e5",
    "execution": {
     "iopub.execute_input": "2023-03-25T15:29:31.699852Z",
     "iopub.status.busy": "2023-03-25T15:29:31.698906Z",
     "iopub.status.idle": "2023-03-25T15:30:26.650984Z",
     "shell.execute_reply": "2023-03-25T15:30:26.649604Z"
    },
    "papermill": {
     "duration": 54.965224,
     "end_time": "2023-03-25T15:30:26.654168",
     "exception": false,
     "start_time": "2023-03-25T15:29:31.688944",
     "status": "completed"
    },
    "scrolled": true,
    "tags": []
   },
   "outputs": [
    {
     "name": "stdout",
     "output_type": "stream",
     "text": [
      "Requirement already satisfied: timm in /opt/conda/lib/python3.7/site-packages (0.6.12)\r\n",
      "Requirement already satisfied: torch>=1.7 in /opt/conda/lib/python3.7/site-packages (from timm) (1.13.0)\r\n",
      "Requirement already satisfied: huggingface-hub in /opt/conda/lib/python3.7/site-packages (from timm) (0.12.1)\r\n",
      "Requirement already satisfied: torchvision in /opt/conda/lib/python3.7/site-packages (from timm) (0.14.0)\r\n",
      "Requirement already satisfied: pyyaml in /opt/conda/lib/python3.7/site-packages (from timm) (6.0)\r\n",
      "Requirement already satisfied: typing-extensions in /opt/conda/lib/python3.7/site-packages (from torch>=1.7->timm) (4.4.0)\r\n",
      "Requirement already satisfied: packaging>=20.9 in /opt/conda/lib/python3.7/site-packages (from huggingface-hub->timm) (23.0)\r\n",
      "Requirement already satisfied: filelock in /opt/conda/lib/python3.7/site-packages (from huggingface-hub->timm) (3.9.0)\r\n",
      "Requirement already satisfied: importlib-metadata in /opt/conda/lib/python3.7/site-packages (from huggingface-hub->timm) (4.11.4)\r\n",
      "Requirement already satisfied: requests in /opt/conda/lib/python3.7/site-packages (from huggingface-hub->timm) (2.28.2)\r\n",
      "Requirement already satisfied: tqdm>=4.42.1 in /opt/conda/lib/python3.7/site-packages (from huggingface-hub->timm) (4.64.1)\r\n",
      "Requirement already satisfied: pillow!=8.3.*,>=5.3.0 in /opt/conda/lib/python3.7/site-packages (from torchvision->timm) (9.4.0)\r\n",
      "Requirement already satisfied: numpy in /opt/conda/lib/python3.7/site-packages (from torchvision->timm) (1.21.6)\r\n",
      "Requirement already satisfied: zipp>=0.5 in /opt/conda/lib/python3.7/site-packages (from importlib-metadata->huggingface-hub->timm) (3.11.0)\r\n",
      "Requirement already satisfied: certifi>=2017.4.17 in /opt/conda/lib/python3.7/site-packages (from requests->huggingface-hub->timm) (2022.12.7)\r\n",
      "Requirement already satisfied: urllib3<1.27,>=1.21.1 in /opt/conda/lib/python3.7/site-packages (from requests->huggingface-hub->timm) (1.26.14)\r\n",
      "Requirement already satisfied: idna<4,>=2.5 in /opt/conda/lib/python3.7/site-packages (from requests->huggingface-hub->timm) (3.4)\r\n",
      "Requirement already satisfied: charset-normalizer<4,>=2 in /opt/conda/lib/python3.7/site-packages (from requests->huggingface-hub->timm) (2.1.1)\r\n",
      "\u001b[33mWARNING: Running pip as the 'root' user can result in broken permissions and conflicting behaviour with the system package manager. It is recommended to use a virtual environment instead: https://pip.pypa.io/warnings/venv\u001b[0m\u001b[33m\r\n",
      "\u001b[0mCollecting oulumetrics\r\n",
      "  Downloading oulumetrics-0.1.tar.gz (1.8 kB)\r\n",
      "  Preparing metadata (setup.py) ... \u001b[?25l-\b \bdone\r\n",
      "\u001b[?25hBuilding wheels for collected packages: oulumetrics\r\n",
      "  Building wheel for oulumetrics (setup.py) ... \u001b[?25l-\b \b\\\b \bdone\r\n",
      "\u001b[?25h  Created wheel for oulumetrics: filename=oulumetrics-0.1-py3-none-any.whl size=2459 sha256=e5b158d7baab8da47b83ebb7a395d8863040e6fe3fb0b4d192aac75336bba965\r\n",
      "  Stored in directory: /root/.cache/pip/wheels/7a/12/a3/9f8ea1ed198c858c48af6153e447a4c474f4f79c9b82abe104\r\n",
      "Successfully built oulumetrics\r\n",
      "Installing collected packages: oulumetrics\r\n",
      "Successfully installed oulumetrics-0.1\r\n",
      "\u001b[33mWARNING: Running pip as the 'root' user can result in broken permissions and conflicting behaviour with the system package manager. It is recommended to use a virtual environment instead: https://pip.pypa.io/warnings/venv\u001b[0m\u001b[33m\r\n",
      "\u001b[0mRequirement already satisfied: keras in /opt/conda/lib/python3.7/site-packages (2.11.0)\r\n",
      "\u001b[33mWARNING: Running pip as the 'root' user can result in broken permissions and conflicting behaviour with the system package manager. It is recommended to use a virtual environment instead: https://pip.pypa.io/warnings/venv\u001b[0m\u001b[33m\r\n",
      "\u001b[0mRequirement already satisfied: tensorflow-addons in /opt/conda/lib/python3.7/site-packages (0.19.0)\r\n",
      "Requirement already satisfied: packaging in /opt/conda/lib/python3.7/site-packages (from tensorflow-addons) (23.0)\r\n",
      "Requirement already satisfied: typeguard>=2.7 in /opt/conda/lib/python3.7/site-packages (from tensorflow-addons) (2.13.3)\r\n",
      "\u001b[33mWARNING: Running pip as the 'root' user can result in broken permissions and conflicting behaviour with the system package manager. It is recommended to use a virtual environment instead: https://pip.pypa.io/warnings/venv\u001b[0m\u001b[33m\r\n",
      "\u001b[0mCollecting gdown\r\n",
      "  Downloading gdown-4.7.1-py3-none-any.whl (15 kB)\r\n",
      "Requirement already satisfied: beautifulsoup4 in /opt/conda/lib/python3.7/site-packages (from gdown) (4.11.1)\r\n",
      "Requirement already satisfied: tqdm in /opt/conda/lib/python3.7/site-packages (from gdown) (4.64.1)\r\n",
      "Requirement already satisfied: six in /opt/conda/lib/python3.7/site-packages (from gdown) (1.16.0)\r\n",
      "Requirement already satisfied: filelock in /opt/conda/lib/python3.7/site-packages (from gdown) (3.9.0)\r\n",
      "Requirement already satisfied: requests[socks] in /opt/conda/lib/python3.7/site-packages (from gdown) (2.28.2)\r\n",
      "Requirement already satisfied: soupsieve>1.2 in /opt/conda/lib/python3.7/site-packages (from beautifulsoup4->gdown) (2.3.2.post1)\r\n",
      "Requirement already satisfied: idna<4,>=2.5 in /opt/conda/lib/python3.7/site-packages (from requests[socks]->gdown) (3.4)\r\n",
      "Requirement already satisfied: urllib3<1.27,>=1.21.1 in /opt/conda/lib/python3.7/site-packages (from requests[socks]->gdown) (1.26.14)\r\n",
      "Requirement already satisfied: certifi>=2017.4.17 in /opt/conda/lib/python3.7/site-packages (from requests[socks]->gdown) (2022.12.7)\r\n",
      "Requirement already satisfied: charset-normalizer<4,>=2 in /opt/conda/lib/python3.7/site-packages (from requests[socks]->gdown) (2.1.1)\r\n",
      "Requirement already satisfied: PySocks!=1.5.7,>=1.5.6 in /opt/conda/lib/python3.7/site-packages (from requests[socks]->gdown) (1.7.1)\r\n",
      "Installing collected packages: gdown\r\n",
      "Successfully installed gdown-4.7.1\r\n",
      "\u001b[33mWARNING: Running pip as the 'root' user can result in broken permissions and conflicting behaviour with the system package manager. It is recommended to use a virtual environment instead: https://pip.pypa.io/warnings/venv\u001b[0m\u001b[33m\r\n",
      "\u001b[0m"
     ]
    }
   ],
   "source": [
    "import numpy as np # linear algebra\n",
    "import pandas as pd # data processing, CSV file I/O (e.g. pd.read_csv)\n",
    "import os\n",
    "import torch\n",
    "import torchvision\n",
    "from torchvision import datasets\n",
    "from torchvision import transforms as T # for simplifying the transforms\n",
    "from torch import nn, optim\n",
    "from torch.nn import functional as F\n",
    "from torch.utils.data import DataLoader, sampler, random_split\n",
    "from torchvision import models\n",
    "## Now, we import timm, torchvision image models\n",
    "!pip install timm # kaggle doesnt have it installed by default\n",
    "import timm\n",
    "from timm.loss import LabelSmoothingCrossEntropy # This is better than normal nn.CrossEntropyLoss\n",
    "# remove warnings\n",
    "import warnings\n",
    "warnings.filterwarnings(\"ignore\")\n",
    "import matplotlib.pyplot as plt\n",
    "%matplotlib inline\n",
    "import sys\n",
    "from tqdm import tqdm\n",
    "import time\n",
    "import copy\n",
    "import sklearn.metrics\n",
    "from sklearn.metrics import confusion_matrix, f1_score\n",
    "!pip install oulumetrics\n",
    "import oulumetrics\n",
    "!pip install keras\n",
    "!pip install tensorflow-addons\n",
    "!pip install gdown\n",
    "import subprocess"
   ]
  },
  {
   "cell_type": "markdown",
   "id": "02bb3306",
   "metadata": {
    "papermill": {
     "duration": 0.008357,
     "end_time": "2023-03-25T15:30:26.671764",
     "exception": false,
     "start_time": "2023-03-25T15:30:26.663407",
     "status": "completed"
    },
    "tags": []
   },
   "source": [
    "# Dataset Extraction"
   ]
  },
  {
   "cell_type": "code",
   "execution_count": 2,
   "id": "2c0714c4",
   "metadata": {
    "execution": {
     "iopub.execute_input": "2023-03-25T15:30:26.690722Z",
     "iopub.status.busy": "2023-03-25T15:30:26.690383Z",
     "iopub.status.idle": "2023-03-25T15:30:26.695311Z",
     "shell.execute_reply": "2023-03-25T15:30:26.694266Z"
    },
    "papermill": {
     "duration": 0.017206,
     "end_time": "2023-03-25T15:30:26.697387",
     "exception": false,
     "start_time": "2023-03-25T15:30:26.680181",
     "status": "completed"
    },
    "tags": []
   },
   "outputs": [],
   "source": [
    "protocol = 'Protocol1'\n",
    "color_space = 'RGB'\n"
   ]
  },
  {
   "cell_type": "code",
   "execution_count": 3,
   "id": "c960ba93",
   "metadata": {
    "_kg_hide-output": true,
    "execution": {
     "iopub.execute_input": "2023-03-25T15:30:26.715934Z",
     "iopub.status.busy": "2023-03-25T15:30:26.715103Z",
     "iopub.status.idle": "2023-03-25T15:30:36.518469Z",
     "shell.execute_reply": "2023-03-25T15:30:36.517111Z"
    },
    "papermill": {
     "duration": 9.815606,
     "end_time": "2023-03-25T15:30:36.521360",
     "exception": false,
     "start_time": "2023-03-25T15:30:26.705754",
     "status": "completed"
    },
    "tags": []
   },
   "outputs": [
    {
     "name": "stdout",
     "output_type": "stream",
     "text": [
      "/opt/conda/lib/python3.7/site-packages/gdown/cli.py:130: FutureWarning: Option `--id` was deprecated in version 4.3.1 and will be removed in 5.0. You don't need to pass it anymore to use a file ID.\r\n",
      "  category=FutureWarning,\r\n",
      "Downloading...\r\n",
      "From (uriginal): https://drive.google.com/uc?id=1EzhHs0C6UR3-CjN9SAtTUyGI3zRI0tAG\r\n",
      "From (redirected): https://drive.google.com/uc?id=1EzhHs0C6UR3-CjN9SAtTUyGI3zRI0tAG&confirm=t&uuid=f7ecfe66-b7da-42f7-8689-9682a5bfc4a8\r\n",
      "To: /kaggle/working/Protocol1_RGB_Seperated_undersampled.zip\r\n",
      "100%|█████████████████████████████████████████| 451M/451M [00:02<00:00, 172MB/s]\r\n"
     ]
    },
    {
     "data": {
      "text/plain": [
       "CompletedProcess(args=['unzip', '-q', 'Protocol1_RGB_Seperated_undersampled'], returncode=0)"
      ]
     },
     "execution_count": 3,
     "metadata": {},
     "output_type": "execute_result"
    }
   ],
   "source": [
    "\n",
    "!gdown --id 1EzhHs0C6UR3-CjN9SAtTUyGI3zRI0tAG\n",
    "\n",
    "\n",
    "# specify the file name and destination directory\n",
    "file_name = f'{protocol}_{color_space}_Seperated_undersampled'\n",
    "# construct the command to unzip the file\n",
    "command = ['unzip','-q', file_name]\n",
    "# execute the command\n",
    "subprocess.run(command)\n",
    "\n"
   ]
  },
  {
   "cell_type": "markdown",
   "id": "25062b4c",
   "metadata": {
    "papermill": {
     "duration": 0.015592,
     "end_time": "2023-03-25T15:30:36.553017",
     "exception": false,
     "start_time": "2023-03-25T15:30:36.537425",
     "status": "completed"
    },
    "tags": []
   },
   "source": [
    "# Dataset Loading"
   ]
  },
  {
   "cell_type": "code",
   "execution_count": 4,
   "id": "f7ca788e",
   "metadata": {
    "execution": {
     "iopub.execute_input": "2023-03-25T15:30:36.584741Z",
     "iopub.status.busy": "2023-03-25T15:30:36.583936Z",
     "iopub.status.idle": "2023-03-25T15:30:36.589887Z",
     "shell.execute_reply": "2023-03-25T15:30:36.588857Z"
    },
    "papermill": {
     "duration": 0.02636,
     "end_time": "2023-03-25T15:30:36.594209",
     "exception": false,
     "start_time": "2023-03-25T15:30:36.567849",
     "status": "completed"
    },
    "tags": []
   },
   "outputs": [],
   "source": [
    "dataset_path = f\"/kaggle/working/{file_name}\""
   ]
  },
  {
   "cell_type": "code",
   "execution_count": 5,
   "id": "2b36f22c",
   "metadata": {
    "execution": {
     "iopub.execute_input": "2023-03-25T15:30:36.629262Z",
     "iopub.status.busy": "2023-03-25T15:30:36.628934Z",
     "iopub.status.idle": "2023-03-25T15:30:36.644233Z",
     "shell.execute_reply": "2023-03-25T15:30:36.643353Z"
    },
    "papermill": {
     "duration": 0.035834,
     "end_time": "2023-03-25T15:30:36.646969",
     "exception": false,
     "start_time": "2023-03-25T15:30:36.611135",
     "status": "completed"
    },
    "tags": []
   },
   "outputs": [],
   "source": [
    "def get_data_loaders(data_dir, batch_size, train = False):\n",
    "    if train:\n",
    "        #train\n",
    "        transform = T.Compose([\n",
    "            T.RandomHorizontalFlip(),\n",
    "            T.RandomVerticalFlip(),\n",
    "#             T.RandomApply(torch.nn.ModuleList([T.ColorJitter()]), p=0.25),\n",
    "            T.Resize(256),\n",
    "            T.CenterCrop(224),\n",
    "            T.ToTensor(),\n",
    "            T.Normalize((0.485, 0.456, 0.406), (0.229, 0.224, 0.225)), # imagenet means\n",
    "            T.RandomErasing(p=0.20, value='random')\n",
    "        ])\n",
    "        train_data = datasets.ImageFolder(os.path.join(data_dir, \"train/\"), transform = transform)\n",
    "        train_loader = DataLoader(train_data, batch_size=batch_size, shuffle=True, num_workers=4)\n",
    "        return train_loader, len(train_data)\n",
    "    else:\n",
    "        # val/test\n",
    "        transform = T.Compose([ # We dont need augmentation for test transforms\n",
    "            T.Resize(256),\n",
    "            T.CenterCrop(224),\n",
    "            T.ToTensor(),\n",
    "            T.Normalize((0.485, 0.456, 0.406), (0.229, 0.224, 0.225)), # imagenet means\n",
    "        ])\n",
    "        val_data = datasets.ImageFolder(os.path.join(data_dir, \"dev/\"), transform=transform)\n",
    "        test_data = datasets.ImageFolder(os.path.join(data_dir, \"test/\"), transform=transform)\n",
    "        val_loader = DataLoader(val_data, batch_size=batch_size, shuffle=True, num_workers=4)\n",
    "        test_loader = DataLoader(test_data, batch_size=batch_size, shuffle=True, num_workers=4)\n",
    "        return val_loader, test_loader, len(val_data), len(test_data)"
   ]
  },
  {
   "cell_type": "code",
   "execution_count": 6,
   "id": "66c63b8c",
   "metadata": {
    "execution": {
     "iopub.execute_input": "2023-03-25T15:30:36.699276Z",
     "iopub.status.busy": "2023-03-25T15:30:36.698947Z",
     "iopub.status.idle": "2023-03-25T15:30:36.704804Z",
     "shell.execute_reply": "2023-03-25T15:30:36.703738Z"
    },
    "papermill": {
     "duration": 0.028724,
     "end_time": "2023-03-25T15:30:36.707575",
     "exception": false,
     "start_time": "2023-03-25T15:30:36.678851",
     "status": "completed"
    },
    "tags": []
   },
   "outputs": [],
   "source": [
    "def get_classes(data_dir):\n",
    "    all_data = datasets.ImageFolder(data_dir)\n",
    "    return all_data.classes"
   ]
  },
  {
   "cell_type": "code",
   "execution_count": 7,
   "id": "931e1dd0",
   "metadata": {
    "execution": {
     "iopub.execute_input": "2023-03-25T15:30:36.742029Z",
     "iopub.status.busy": "2023-03-25T15:30:36.741741Z",
     "iopub.status.idle": "2023-03-25T15:30:36.880438Z",
     "shell.execute_reply": "2023-03-25T15:30:36.879237Z"
    },
    "papermill": {
     "duration": 0.158111,
     "end_time": "2023-03-25T15:30:36.883267",
     "exception": false,
     "start_time": "2023-03-25T15:30:36.725156",
     "status": "completed"
    },
    "tags": []
   },
   "outputs": [],
   "source": [
    "(train_loader, train_data_len) = get_data_loaders(dataset_path, 128, train=True)\n",
    "(dev_loader, test_loader, dev_data_len, test_data_len) = get_data_loaders(dataset_path, 32, train=False)"
   ]
  },
  {
   "cell_type": "code",
   "execution_count": 8,
   "id": "ea1e296d",
   "metadata": {
    "execution": {
     "iopub.execute_input": "2023-03-25T15:30:36.917019Z",
     "iopub.status.busy": "2023-03-25T15:30:36.915797Z",
     "iopub.status.idle": "2023-03-25T15:30:36.966369Z",
     "shell.execute_reply": "2023-03-25T15:30:36.964203Z"
    },
    "papermill": {
     "duration": 0.068824,
     "end_time": "2023-03-25T15:30:36.968667",
     "exception": false,
     "start_time": "2023-03-25T15:30:36.899843",
     "status": "completed"
    },
    "tags": []
   },
   "outputs": [
    {
     "name": "stdout",
     "output_type": "stream",
     "text": [
      "['fake', 'true'] 2\n"
     ]
    }
   ],
   "source": [
    "classes = get_classes(f\"/kaggle/working/{file_name}/train/\")\n",
    "print(classes, len(classes))"
   ]
  },
  {
   "cell_type": "code",
   "execution_count": 9,
   "id": "5487d7b5",
   "metadata": {
    "execution": {
     "iopub.execute_input": "2023-03-25T15:30:36.990090Z",
     "iopub.status.busy": "2023-03-25T15:30:36.989812Z",
     "iopub.status.idle": "2023-03-25T15:30:36.994782Z",
     "shell.execute_reply": "2023-03-25T15:30:36.993333Z"
    },
    "papermill": {
     "duration": 0.018502,
     "end_time": "2023-03-25T15:30:36.997290",
     "exception": false,
     "start_time": "2023-03-25T15:30:36.978788",
     "status": "completed"
    },
    "tags": []
   },
   "outputs": [],
   "source": [
    "dataloaders = {\n",
    "    \"train\": train_loader,\n",
    "    \"val\": dev_loader\n",
    "}\n",
    "dataset_sizes = {\n",
    "    \"train\": train_data_len,\n",
    "    \"val\": dev_data_len\n",
    "}"
   ]
  },
  {
   "cell_type": "code",
   "execution_count": 10,
   "id": "cfd99573",
   "metadata": {
    "execution": {
     "iopub.execute_input": "2023-03-25T15:30:37.018906Z",
     "iopub.status.busy": "2023-03-25T15:30:37.018631Z",
     "iopub.status.idle": "2023-03-25T15:30:37.023578Z",
     "shell.execute_reply": "2023-03-25T15:30:37.022606Z"
    },
    "papermill": {
     "duration": 0.018726,
     "end_time": "2023-03-25T15:30:37.026411",
     "exception": false,
     "start_time": "2023-03-25T15:30:37.007685",
     "status": "completed"
    },
    "tags": []
   },
   "outputs": [
    {
     "name": "stdout",
     "output_type": "stream",
     "text": [
      "45 283 243\n"
     ]
    }
   ],
   "source": [
    "print(len(train_loader), len(dev_loader), len(test_loader))"
   ]
  },
  {
   "cell_type": "code",
   "execution_count": 11,
   "id": "991cea42",
   "metadata": {
    "execution": {
     "iopub.execute_input": "2023-03-25T15:30:37.048633Z",
     "iopub.status.busy": "2023-03-25T15:30:37.047854Z",
     "iopub.status.idle": "2023-03-25T15:30:37.053677Z",
     "shell.execute_reply": "2023-03-25T15:30:37.052361Z"
    },
    "papermill": {
     "duration": 0.018699,
     "end_time": "2023-03-25T15:30:37.055717",
     "exception": false,
     "start_time": "2023-03-25T15:30:37.037018",
     "status": "completed"
    },
    "tags": []
   },
   "outputs": [
    {
     "name": "stdout",
     "output_type": "stream",
     "text": [
      "5663 9027 7758\n"
     ]
    }
   ],
   "source": [
    "print(train_data_len, dev_data_len, test_data_len)"
   ]
  },
  {
   "cell_type": "code",
   "execution_count": 12,
   "id": "57a8e240",
   "metadata": {
    "execution": {
     "iopub.execute_input": "2023-03-25T15:30:37.077768Z",
     "iopub.status.busy": "2023-03-25T15:30:37.076980Z",
     "iopub.status.idle": "2023-03-25T15:30:37.142913Z",
     "shell.execute_reply": "2023-03-25T15:30:37.141827Z"
    },
    "papermill": {
     "duration": 0.078951,
     "end_time": "2023-03-25T15:30:37.145109",
     "exception": false,
     "start_time": "2023-03-25T15:30:37.066158",
     "status": "completed"
    },
    "tags": []
   },
   "outputs": [
    {
     "data": {
      "text/plain": [
       "device(type='cuda')"
      ]
     },
     "execution_count": 12,
     "metadata": {},
     "output_type": "execute_result"
    }
   ],
   "source": [
    "# now, for the model\n",
    "device = torch.device('cuda' if torch.cuda.is_available() else 'cpu')\n",
    "device"
   ]
  },
  {
   "cell_type": "code",
   "execution_count": 13,
   "id": "acd9aae6",
   "metadata": {
    "execution": {
     "iopub.execute_input": "2023-03-25T15:30:37.167500Z",
     "iopub.status.busy": "2023-03-25T15:30:37.166675Z",
     "iopub.status.idle": "2023-03-25T15:30:37.171200Z",
     "shell.execute_reply": "2023-03-25T15:30:37.170276Z"
    },
    "papermill": {
     "duration": 0.017814,
     "end_time": "2023-03-25T15:30:37.173247",
     "exception": false,
     "start_time": "2023-03-25T15:30:37.155433",
     "status": "completed"
    },
    "tags": []
   },
   "outputs": [],
   "source": [
    "# model_names = timm.list_models(pretrained=True)\n",
    "# print(model_names)"
   ]
  },
  {
   "cell_type": "markdown",
   "id": "559be1b2",
   "metadata": {
    "papermill": {
     "duration": 0.00998,
     "end_time": "2023-03-25T15:30:37.193597",
     "exception": false,
     "start_time": "2023-03-25T15:30:37.183617",
     "status": "completed"
    },
    "tags": []
   },
   "source": [
    "# Model Parameters"
   ]
  },
  {
   "cell_type": "code",
   "execution_count": 14,
   "id": "3f5c7c52",
   "metadata": {
    "execution": {
     "iopub.execute_input": "2023-03-25T15:30:37.215821Z",
     "iopub.status.busy": "2023-03-25T15:30:37.215013Z",
     "iopub.status.idle": "2023-03-25T15:30:37.219772Z",
     "shell.execute_reply": "2023-03-25T15:30:37.218458Z"
    },
    "papermill": {
     "duration": 0.01833,
     "end_time": "2023-03-25T15:30:37.222112",
     "exception": false,
     "start_time": "2023-03-25T15:30:37.203782",
     "status": "completed"
    },
    "tags": []
   },
   "outputs": [],
   "source": [
    "pretrained_model_name = 'deit_base_patch16_224'   #cait_M48 cait_XXS36_224 cait_S24_224 deit_base_distilled_patch16_224 deit_base_patch16_224 deit_tiny_distilled_patch16_224\n",
    "no_epochs = 50"
   ]
  },
  {
   "cell_type": "code",
   "execution_count": 15,
   "id": "461b6edb",
   "metadata": {
    "execution": {
     "iopub.execute_input": "2023-03-25T15:30:37.243394Z",
     "iopub.status.busy": "2023-03-25T15:30:37.243096Z",
     "iopub.status.idle": "2023-03-25T15:30:46.798644Z",
     "shell.execute_reply": "2023-03-25T15:30:46.797602Z"
    },
    "papermill": {
     "duration": 9.569035,
     "end_time": "2023-03-25T15:30:46.801180",
     "exception": false,
     "start_time": "2023-03-25T15:30:37.232145",
     "status": "completed"
    },
    "tags": []
   },
   "outputs": [
    {
     "name": "stderr",
     "output_type": "stream",
     "text": [
      "Downloading: \"https://github.com/facebookresearch/deit/zipball/main\" to /root/.cache/torch/hub/main.zip\n",
      "Downloading: \"https://dl.fbaipublicfiles.com/deit/deit_base_patch16_224-b5f2ef4d.pth\" to /root/.cache/torch/hub/checkpoints/deit_base_patch16_224-b5f2ef4d.pth\n"
     ]
    },
    {
     "data": {
      "application/vnd.jupyter.widget-view+json": {
       "model_id": "0354f582f33b449a82b70a7aa9766fa1",
       "version_major": 2,
       "version_minor": 0
      },
      "text/plain": [
       "  0%|          | 0.00/330M [00:00<?, ?B/s]"
      ]
     },
     "metadata": {},
     "output_type": "display_data"
    }
   ],
   "source": [
    "\n",
    "learning_rate = 0.03\n",
    "model = torch.hub.load('facebookresearch/deit:main', pretrained_model_name, pretrained=True)\n",
    "\n",
    "for param in model.parameters(): #freeze model\n",
    "    param.requires_grad = False\n",
    "\n",
    "n_inputs = model.head.in_features\n",
    "model.head = nn.Sequential(\n",
    "    \n",
    "#     nn.BatchNorm1d(192),\n",
    "#     nn.Linear(n_inputs, 512),\n",
    "#     nn.ReLU(),\n",
    "# #     nn.BatchNorm1d(512),\n",
    "#     nn.Dropout(0.2, inplace=True),\n",
    "#     nn.Linear(512, 256),\n",
    "#     nn.ReLU(),\n",
    "#     nn.Dropout(0.2, inplace=True),\n",
    "#     nn.Linear(256, 128),\n",
    "#     nn.ReLU(),\n",
    "#     nn.Dropout(0.2, inplace=True),\n",
    "#     nn.Linear(128, 64),\n",
    "#     nn.ReLU(),\n",
    "# #     nn.Dropout(0.2, inplace=True),\n",
    "    \n",
    "#     nn.Linear(64, len(classes))\n",
    "    ############################################\n",
    "    nn.BatchNorm1d(768),\n",
    "    nn.Linear(n_inputs, 512),\n",
    "    nn.Mish(),\n",
    "#     nn.BatchNorm1d(512),\n",
    "    nn.Dropout(0.2, inplace=True),\n",
    "    nn.Linear(512, 256),\n",
    "    nn.Mish(),\n",
    "    nn.Dropout(0.2, inplace=True),\n",
    "    nn.Linear(256, 128),\n",
    "    nn.Mish(),\n",
    "    nn.Dropout(0.2, inplace=True),\n",
    "    nn.Linear(128, 64),\n",
    "    nn.Mish(),\n",
    "#     nn.Dropout(0.2, inplace=True),\n",
    "    \n",
    "    nn.Linear(64, len(classes))\n",
    "    ##############################################\n",
    "    \n",
    "#     nn.BatchNorm1d(192),\n",
    "# #     nn.Linear(n_inputs, 512),\n",
    "#     nn.PReLU(),\n",
    "# #     nn.BatchNorm1d(512),\n",
    "#     nn.Dropout(0.2, inplace=True),\n",
    "# #     nn.Linear(512, 256),\n",
    "#     nn.PReLU(),\n",
    "#     nn.Dropout(0.2, inplace=True),\n",
    "# #     nn.Linear(256, 128),\n",
    "#     nn.PReLU(),\n",
    "#     nn.Dropout(0.2, inplace=True),\n",
    "# #     nn.Linear(128, 64),\n",
    "#     nn.PReLU(),\n",
    "    #################################\n",
    "#     nn.Linear(n_inputs, 512),\n",
    "#     nn.ReLU(),\n",
    "#     nn.Dropout(0.3),\n",
    "#     nn.Linear(512, len(classes))\n",
    ")\n",
    "\n",
    "# model.head = head_params\n",
    "model = model.to(device)\n",
    "# print(model)\n",
    "# parameters\n"
   ]
  },
  {
   "cell_type": "code",
   "execution_count": 16,
   "id": "c14db496",
   "metadata": {
    "execution": {
     "iopub.execute_input": "2023-03-25T15:30:46.828217Z",
     "iopub.status.busy": "2023-03-25T15:30:46.827835Z",
     "iopub.status.idle": "2023-03-25T15:30:46.834284Z",
     "shell.execute_reply": "2023-03-25T15:30:46.832368Z"
    },
    "papermill": {
     "duration": 0.021828,
     "end_time": "2023-03-25T15:30:46.836609",
     "exception": false,
     "start_time": "2023-03-25T15:30:46.814781",
     "status": "completed"
    },
    "tags": []
   },
   "outputs": [],
   "source": [
    "criterion = LabelSmoothingCrossEntropy()\n",
    "criterion = criterion.to(device)\n",
    "optimizer = optim.SGD(model.head.parameters(), lr=learning_rate, momentum=0.5)"
   ]
  },
  {
   "cell_type": "code",
   "execution_count": 17,
   "id": "cee7eae3",
   "metadata": {
    "execution": {
     "iopub.execute_input": "2023-03-25T15:30:46.860730Z",
     "iopub.status.busy": "2023-03-25T15:30:46.860134Z",
     "iopub.status.idle": "2023-03-25T15:30:46.865235Z",
     "shell.execute_reply": "2023-03-25T15:30:46.864345Z"
    },
    "papermill": {
     "duration": 0.018968,
     "end_time": "2023-03-25T15:30:46.867349",
     "exception": false,
     "start_time": "2023-03-25T15:30:46.848381",
     "status": "completed"
    },
    "tags": []
   },
   "outputs": [],
   "source": [
    "# lr scheduler\n",
    "exp_lr_scheduler = optim.lr_scheduler.StepLR(optimizer, step_size=3, gamma=0.97)"
   ]
  },
  {
   "cell_type": "code",
   "execution_count": 18,
   "id": "8f8750e3",
   "metadata": {
    "execution": {
     "iopub.execute_input": "2023-03-25T15:30:46.890797Z",
     "iopub.status.busy": "2023-03-25T15:30:46.890523Z",
     "iopub.status.idle": "2023-03-25T15:30:46.903575Z",
     "shell.execute_reply": "2023-03-25T15:30:46.902703Z"
    },
    "papermill": {
     "duration": 0.027094,
     "end_time": "2023-03-25T15:30:46.905689",
     "exception": false,
     "start_time": "2023-03-25T15:30:46.878595",
     "status": "completed"
    },
    "tags": []
   },
   "outputs": [],
   "source": [
    "train_accs = []\n",
    "val_accs = []\n",
    "train_losses = []\n",
    "val_losses=[]\n",
    "\n",
    "def train_model(model, criterion, optimizer, scheduler, num_epochs):\n",
    "    since = time.time()\n",
    "    best_model_wts = copy.deepcopy(model.state_dict())\n",
    "    best_acc = 0.0\n",
    "    \n",
    "    for epoch in range(num_epochs):\n",
    "        print(f'Epoch {epoch}/{num_epochs - 1}')\n",
    "        print(\"-\"*10)\n",
    "        \n",
    "        for phase in ['train', 'val']: # We do training and validation phase per epoch\n",
    "            if phase == 'train':\n",
    "                model.train() # model to training mode\n",
    "            else:\n",
    "                model.eval() # model to evaluate\n",
    "            \n",
    "            running_loss = 0.0\n",
    "            running_corrects = 0.0\n",
    "            \n",
    "            for inputs, labels in tqdm(dataloaders[phase]):\n",
    "                inputs = inputs.to(device)\n",
    "                labels = labels.to(device)\n",
    "                \n",
    "                optimizer.zero_grad()\n",
    "                \n",
    "                with torch.set_grad_enabled(phase == 'train'): # no autograd makes validation go faster\n",
    "                    outputs = model(inputs)\n",
    "#                     print(outputs)\n",
    "                    _, preds = torch.max(outputs,1) # used for accuracy\n",
    "                    loss = criterion(outputs, labels)\n",
    "                    \n",
    "                    if phase == 'train':\n",
    "                        loss.backward()\n",
    "                        optimizer.step()\n",
    "                running_loss += loss.item() * inputs.size(0)\n",
    "                running_corrects += torch.sum(preds == labels.data)\n",
    "                \n",
    "            if phase == 'train':\n",
    "                scheduler.step() # step at end of epoch\n",
    "            \n",
    "            epoch_loss = running_loss / dataset_sizes[phase]\n",
    "            epoch_acc =  running_corrects.double() / dataset_sizes[phase]\n",
    "            epoch_acc = epoch_acc.cpu()\n",
    "            if phase == 'val':\n",
    "                val_accs.append(epoch_acc)\n",
    "                val_losses.append(epoch_loss)\n",
    "            else:\n",
    "                train_accs.append(epoch_acc)\n",
    "                train_losses.append(epoch_loss)\n",
    "            \n",
    "            print(\"{} Loss: {:.4f} Acc: {:.4f}\".format(phase, epoch_loss, epoch_acc))\n",
    "            \n",
    "            if phase == 'val' and epoch_acc > best_acc:\n",
    "                best_acc = epoch_acc\n",
    "                best_model_wts = copy.deepcopy(model.state_dict()) # keep the best validation accuracy model\n",
    "        print()\n",
    "    time_elapsed = time.time() - since # slight error\n",
    "    print('Training complete in {:.0f}m {:.0f}s'.format(time_elapsed // 60, time_elapsed % 60))\n",
    "    print(\"Best Train Acc: {:.4f}\".format(max(train_accs)))\n",
    "    print(\"Best Val Acc: {:.4f}\".format(best_acc))\n",
    "    \n",
    "    model.load_state_dict(best_model_wts)\n",
    "    return model"
   ]
  },
  {
   "cell_type": "markdown",
   "id": "546839a5",
   "metadata": {
    "papermill": {
     "duration": 0.010678,
     "end_time": "2023-03-25T15:30:46.927619",
     "exception": false,
     "start_time": "2023-03-25T15:30:46.916941",
     "status": "completed"
    },
    "tags": []
   },
   "source": [
    "# Model Training"
   ]
  },
  {
   "cell_type": "code",
   "execution_count": 19,
   "id": "742d988d",
   "metadata": {
    "execution": {
     "iopub.execute_input": "2023-03-25T15:30:46.950888Z",
     "iopub.status.busy": "2023-03-25T15:30:46.950282Z",
     "iopub.status.idle": "2023-03-25T16:45:50.501229Z",
     "shell.execute_reply": "2023-03-25T16:45:50.499985Z"
    },
    "papermill": {
     "duration": 4503.566538,
     "end_time": "2023-03-25T16:45:50.504618",
     "exception": false,
     "start_time": "2023-03-25T15:30:46.938080",
     "status": "completed"
    },
    "tags": []
   },
   "outputs": [
    {
     "name": "stdout",
     "output_type": "stream",
     "text": [
      "Epoch 0/49\n",
      "----------\n"
     ]
    },
    {
     "name": "stderr",
     "output_type": "stream",
     "text": [
      "100%|██████████| 45/45 [00:39<00:00,  1.15it/s]\n"
     ]
    },
    {
     "name": "stdout",
     "output_type": "stream",
     "text": [
      "train Loss: 0.6931 Acc: 0.5151\n"
     ]
    },
    {
     "name": "stderr",
     "output_type": "stream",
     "text": [
      "100%|██████████| 283/283 [00:55<00:00,  5.07it/s]\n"
     ]
    },
    {
     "name": "stdout",
     "output_type": "stream",
     "text": [
      "val Loss: 0.6985 Acc: 0.2651\n",
      "\n",
      "Epoch 1/49\n",
      "----------\n"
     ]
    },
    {
     "name": "stderr",
     "output_type": "stream",
     "text": [
      "100%|██████████| 45/45 [00:33<00:00,  1.32it/s]\n"
     ]
    },
    {
     "name": "stdout",
     "output_type": "stream",
     "text": [
      "train Loss: 0.6875 Acc: 0.5547\n"
     ]
    },
    {
     "name": "stderr",
     "output_type": "stream",
     "text": [
      "100%|██████████| 283/283 [00:55<00:00,  5.06it/s]\n"
     ]
    },
    {
     "name": "stdout",
     "output_type": "stream",
     "text": [
      "val Loss: 0.6965 Acc: 0.3703\n",
      "\n",
      "Epoch 2/49\n",
      "----------\n"
     ]
    },
    {
     "name": "stderr",
     "output_type": "stream",
     "text": [
      "100%|██████████| 45/45 [00:33<00:00,  1.33it/s]\n"
     ]
    },
    {
     "name": "stdout",
     "output_type": "stream",
     "text": [
      "train Loss: 0.6806 Acc: 0.6405\n"
     ]
    },
    {
     "name": "stderr",
     "output_type": "stream",
     "text": [
      "100%|██████████| 283/283 [00:55<00:00,  5.06it/s]\n"
     ]
    },
    {
     "name": "stdout",
     "output_type": "stream",
     "text": [
      "val Loss: 0.6893 Acc: 0.5513\n",
      "\n",
      "Epoch 3/49\n",
      "----------\n"
     ]
    },
    {
     "name": "stderr",
     "output_type": "stream",
     "text": [
      "100%|██████████| 45/45 [00:34<00:00,  1.32it/s]\n"
     ]
    },
    {
     "name": "stdout",
     "output_type": "stream",
     "text": [
      "train Loss: 0.6636 Acc: 0.7081\n"
     ]
    },
    {
     "name": "stderr",
     "output_type": "stream",
     "text": [
      "100%|██████████| 283/283 [00:55<00:00,  5.06it/s]\n"
     ]
    },
    {
     "name": "stdout",
     "output_type": "stream",
     "text": [
      "val Loss: 0.6589 Acc: 0.7326\n",
      "\n",
      "Epoch 4/49\n",
      "----------\n"
     ]
    },
    {
     "name": "stderr",
     "output_type": "stream",
     "text": [
      "100%|██████████| 45/45 [00:34<00:00,  1.32it/s]\n"
     ]
    },
    {
     "name": "stdout",
     "output_type": "stream",
     "text": [
      "train Loss: 0.6170 Acc: 0.7597\n"
     ]
    },
    {
     "name": "stderr",
     "output_type": "stream",
     "text": [
      "100%|██████████| 283/283 [00:55<00:00,  5.07it/s]\n"
     ]
    },
    {
     "name": "stdout",
     "output_type": "stream",
     "text": [
      "val Loss: 0.5649 Acc: 0.8097\n",
      "\n",
      "Epoch 5/49\n",
      "----------\n"
     ]
    },
    {
     "name": "stderr",
     "output_type": "stream",
     "text": [
      "100%|██████████| 45/45 [00:33<00:00,  1.33it/s]\n"
     ]
    },
    {
     "name": "stdout",
     "output_type": "stream",
     "text": [
      "train Loss: 0.5170 Acc: 0.8075\n"
     ]
    },
    {
     "name": "stderr",
     "output_type": "stream",
     "text": [
      "100%|██████████| 283/283 [00:55<00:00,  5.06it/s]\n"
     ]
    },
    {
     "name": "stdout",
     "output_type": "stream",
     "text": [
      "val Loss: 0.4718 Acc: 0.8362\n",
      "\n",
      "Epoch 6/49\n",
      "----------\n"
     ]
    },
    {
     "name": "stderr",
     "output_type": "stream",
     "text": [
      "100%|██████████| 45/45 [00:33<00:00,  1.33it/s]\n"
     ]
    },
    {
     "name": "stdout",
     "output_type": "stream",
     "text": [
      "train Loss: 0.4456 Acc: 0.8425\n"
     ]
    },
    {
     "name": "stderr",
     "output_type": "stream",
     "text": [
      "100%|██████████| 283/283 [00:55<00:00,  5.07it/s]\n"
     ]
    },
    {
     "name": "stdout",
     "output_type": "stream",
     "text": [
      "val Loss: 0.4206 Acc: 0.8664\n",
      "\n",
      "Epoch 7/49\n",
      "----------\n"
     ]
    },
    {
     "name": "stderr",
     "output_type": "stream",
     "text": [
      "100%|██████████| 45/45 [00:33<00:00,  1.33it/s]\n"
     ]
    },
    {
     "name": "stdout",
     "output_type": "stream",
     "text": [
      "train Loss: 0.4000 Acc: 0.8773\n"
     ]
    },
    {
     "name": "stderr",
     "output_type": "stream",
     "text": [
      "100%|██████████| 283/283 [00:55<00:00,  5.06it/s]\n"
     ]
    },
    {
     "name": "stdout",
     "output_type": "stream",
     "text": [
      "val Loss: 0.3909 Acc: 0.8870\n",
      "\n",
      "Epoch 8/49\n",
      "----------\n"
     ]
    },
    {
     "name": "stderr",
     "output_type": "stream",
     "text": [
      "100%|██████████| 45/45 [00:33<00:00,  1.32it/s]\n"
     ]
    },
    {
     "name": "stdout",
     "output_type": "stream",
     "text": [
      "train Loss: 0.3713 Acc: 0.9011\n"
     ]
    },
    {
     "name": "stderr",
     "output_type": "stream",
     "text": [
      "100%|██████████| 283/283 [00:56<00:00,  5.05it/s]\n"
     ]
    },
    {
     "name": "stdout",
     "output_type": "stream",
     "text": [
      "val Loss: 0.3798 Acc: 0.8979\n",
      "\n",
      "Epoch 9/49\n",
      "----------\n"
     ]
    },
    {
     "name": "stderr",
     "output_type": "stream",
     "text": [
      "100%|██████████| 45/45 [00:34<00:00,  1.32it/s]\n"
     ]
    },
    {
     "name": "stdout",
     "output_type": "stream",
     "text": [
      "train Loss: 0.3491 Acc: 0.9172\n"
     ]
    },
    {
     "name": "stderr",
     "output_type": "stream",
     "text": [
      "100%|██████████| 283/283 [00:55<00:00,  5.07it/s]\n"
     ]
    },
    {
     "name": "stdout",
     "output_type": "stream",
     "text": [
      "val Loss: 0.3848 Acc: 0.8920\n",
      "\n",
      "Epoch 10/49\n",
      "----------\n"
     ]
    },
    {
     "name": "stderr",
     "output_type": "stream",
     "text": [
      "100%|██████████| 45/45 [00:33<00:00,  1.34it/s]\n"
     ]
    },
    {
     "name": "stdout",
     "output_type": "stream",
     "text": [
      "train Loss: 0.3368 Acc: 0.9271\n"
     ]
    },
    {
     "name": "stderr",
     "output_type": "stream",
     "text": [
      "100%|██████████| 283/283 [00:55<00:00,  5.07it/s]\n"
     ]
    },
    {
     "name": "stdout",
     "output_type": "stream",
     "text": [
      "val Loss: 0.3736 Acc: 0.9050\n",
      "\n",
      "Epoch 11/49\n",
      "----------\n"
     ]
    },
    {
     "name": "stderr",
     "output_type": "stream",
     "text": [
      "100%|██████████| 45/45 [00:33<00:00,  1.33it/s]\n"
     ]
    },
    {
     "name": "stdout",
     "output_type": "stream",
     "text": [
      "train Loss: 0.3307 Acc: 0.9315\n"
     ]
    },
    {
     "name": "stderr",
     "output_type": "stream",
     "text": [
      "100%|██████████| 283/283 [00:56<00:00,  5.05it/s]\n"
     ]
    },
    {
     "name": "stdout",
     "output_type": "stream",
     "text": [
      "val Loss: 0.3696 Acc: 0.9037\n",
      "\n",
      "Epoch 12/49\n",
      "----------\n"
     ]
    },
    {
     "name": "stderr",
     "output_type": "stream",
     "text": [
      "100%|██████████| 45/45 [00:33<00:00,  1.34it/s]\n"
     ]
    },
    {
     "name": "stdout",
     "output_type": "stream",
     "text": [
      "train Loss: 0.3225 Acc: 0.9359\n"
     ]
    },
    {
     "name": "stderr",
     "output_type": "stream",
     "text": [
      "100%|██████████| 283/283 [00:55<00:00,  5.06it/s]\n"
     ]
    },
    {
     "name": "stdout",
     "output_type": "stream",
     "text": [
      "val Loss: 0.3618 Acc: 0.9091\n",
      "\n",
      "Epoch 13/49\n",
      "----------\n"
     ]
    },
    {
     "name": "stderr",
     "output_type": "stream",
     "text": [
      "100%|██████████| 45/45 [00:33<00:00,  1.34it/s]\n"
     ]
    },
    {
     "name": "stdout",
     "output_type": "stream",
     "text": [
      "train Loss: 0.3104 Acc: 0.9447\n"
     ]
    },
    {
     "name": "stderr",
     "output_type": "stream",
     "text": [
      "100%|██████████| 283/283 [00:55<00:00,  5.06it/s]\n"
     ]
    },
    {
     "name": "stdout",
     "output_type": "stream",
     "text": [
      "val Loss: 0.3593 Acc: 0.9131\n",
      "\n",
      "Epoch 14/49\n",
      "----------\n"
     ]
    },
    {
     "name": "stderr",
     "output_type": "stream",
     "text": [
      "100%|██████████| 45/45 [00:33<00:00,  1.33it/s]\n"
     ]
    },
    {
     "name": "stdout",
     "output_type": "stream",
     "text": [
      "train Loss: 0.3075 Acc: 0.9513\n"
     ]
    },
    {
     "name": "stderr",
     "output_type": "stream",
     "text": [
      "100%|██████████| 283/283 [00:56<00:00,  5.04it/s]\n"
     ]
    },
    {
     "name": "stdout",
     "output_type": "stream",
     "text": [
      "val Loss: 0.3649 Acc: 0.9076\n",
      "\n",
      "Epoch 15/49\n",
      "----------\n"
     ]
    },
    {
     "name": "stderr",
     "output_type": "stream",
     "text": [
      "100%|██████████| 45/45 [00:33<00:00,  1.33it/s]\n"
     ]
    },
    {
     "name": "stdout",
     "output_type": "stream",
     "text": [
      "train Loss: 0.3044 Acc: 0.9509\n"
     ]
    },
    {
     "name": "stderr",
     "output_type": "stream",
     "text": [
      "100%|██████████| 283/283 [00:55<00:00,  5.06it/s]\n"
     ]
    },
    {
     "name": "stdout",
     "output_type": "stream",
     "text": [
      "val Loss: 0.3662 Acc: 0.9074\n",
      "\n",
      "Epoch 16/49\n",
      "----------\n"
     ]
    },
    {
     "name": "stderr",
     "output_type": "stream",
     "text": [
      "100%|██████████| 45/45 [00:33<00:00,  1.33it/s]\n"
     ]
    },
    {
     "name": "stdout",
     "output_type": "stream",
     "text": [
      "train Loss: 0.3028 Acc: 0.9504\n"
     ]
    },
    {
     "name": "stderr",
     "output_type": "stream",
     "text": [
      "100%|██████████| 283/283 [00:55<00:00,  5.06it/s]\n"
     ]
    },
    {
     "name": "stdout",
     "output_type": "stream",
     "text": [
      "val Loss: 0.3461 Acc: 0.9216\n",
      "\n",
      "Epoch 17/49\n",
      "----------\n"
     ]
    },
    {
     "name": "stderr",
     "output_type": "stream",
     "text": [
      "100%|██████████| 45/45 [00:34<00:00,  1.31it/s]\n"
     ]
    },
    {
     "name": "stdout",
     "output_type": "stream",
     "text": [
      "train Loss: 0.2969 Acc: 0.9551\n"
     ]
    },
    {
     "name": "stderr",
     "output_type": "stream",
     "text": [
      "100%|██████████| 283/283 [00:56<00:00,  5.03it/s]\n"
     ]
    },
    {
     "name": "stdout",
     "output_type": "stream",
     "text": [
      "val Loss: 0.3337 Acc: 0.9301\n",
      "\n",
      "Epoch 18/49\n",
      "----------\n"
     ]
    },
    {
     "name": "stderr",
     "output_type": "stream",
     "text": [
      "100%|██████████| 45/45 [00:33<00:00,  1.33it/s]\n"
     ]
    },
    {
     "name": "stdout",
     "output_type": "stream",
     "text": [
      "train Loss: 0.2955 Acc: 0.9574\n"
     ]
    },
    {
     "name": "stderr",
     "output_type": "stream",
     "text": [
      "100%|██████████| 283/283 [00:56<00:00,  5.05it/s]\n"
     ]
    },
    {
     "name": "stdout",
     "output_type": "stream",
     "text": [
      "val Loss: 0.3366 Acc: 0.9287\n",
      "\n",
      "Epoch 19/49\n",
      "----------\n"
     ]
    },
    {
     "name": "stderr",
     "output_type": "stream",
     "text": [
      "100%|██████████| 45/45 [00:33<00:00,  1.33it/s]\n"
     ]
    },
    {
     "name": "stdout",
     "output_type": "stream",
     "text": [
      "train Loss: 0.2932 Acc: 0.9553\n"
     ]
    },
    {
     "name": "stderr",
     "output_type": "stream",
     "text": [
      "100%|██████████| 283/283 [00:55<00:00,  5.06it/s]\n"
     ]
    },
    {
     "name": "stdout",
     "output_type": "stream",
     "text": [
      "val Loss: 0.3405 Acc: 0.9233\n",
      "\n",
      "Epoch 20/49\n",
      "----------\n"
     ]
    },
    {
     "name": "stderr",
     "output_type": "stream",
     "text": [
      "100%|██████████| 45/45 [00:33<00:00,  1.33it/s]\n"
     ]
    },
    {
     "name": "stdout",
     "output_type": "stream",
     "text": [
      "train Loss: 0.2879 Acc: 0.9615\n"
     ]
    },
    {
     "name": "stderr",
     "output_type": "stream",
     "text": [
      "100%|██████████| 283/283 [00:56<00:00,  5.05it/s]\n"
     ]
    },
    {
     "name": "stdout",
     "output_type": "stream",
     "text": [
      "val Loss: 0.3449 Acc: 0.9242\n",
      "\n",
      "Epoch 21/49\n",
      "----------\n"
     ]
    },
    {
     "name": "stderr",
     "output_type": "stream",
     "text": [
      "100%|██████████| 45/45 [00:33<00:00,  1.33it/s]\n"
     ]
    },
    {
     "name": "stdout",
     "output_type": "stream",
     "text": [
      "train Loss: 0.2899 Acc: 0.9597\n"
     ]
    },
    {
     "name": "stderr",
     "output_type": "stream",
     "text": [
      "100%|██████████| 283/283 [00:56<00:00,  5.05it/s]\n"
     ]
    },
    {
     "name": "stdout",
     "output_type": "stream",
     "text": [
      "val Loss: 0.3510 Acc: 0.9178\n",
      "\n",
      "Epoch 22/49\n",
      "----------\n"
     ]
    },
    {
     "name": "stderr",
     "output_type": "stream",
     "text": [
      "100%|██████████| 45/45 [00:33<00:00,  1.33it/s]\n"
     ]
    },
    {
     "name": "stdout",
     "output_type": "stream",
     "text": [
      "train Loss: 0.2839 Acc: 0.9656\n"
     ]
    },
    {
     "name": "stderr",
     "output_type": "stream",
     "text": [
      "100%|██████████| 283/283 [00:55<00:00,  5.06it/s]\n"
     ]
    },
    {
     "name": "stdout",
     "output_type": "stream",
     "text": [
      "val Loss: 0.3270 Acc: 0.9318\n",
      "\n",
      "Epoch 23/49\n",
      "----------\n"
     ]
    },
    {
     "name": "stderr",
     "output_type": "stream",
     "text": [
      "100%|██████████| 45/45 [00:34<00:00,  1.30it/s]\n"
     ]
    },
    {
     "name": "stdout",
     "output_type": "stream",
     "text": [
      "train Loss: 0.2848 Acc: 0.9606\n"
     ]
    },
    {
     "name": "stderr",
     "output_type": "stream",
     "text": [
      "100%|██████████| 283/283 [00:55<00:00,  5.06it/s]\n"
     ]
    },
    {
     "name": "stdout",
     "output_type": "stream",
     "text": [
      "val Loss: 0.3289 Acc: 0.9291\n",
      "\n",
      "Epoch 24/49\n",
      "----------\n"
     ]
    },
    {
     "name": "stderr",
     "output_type": "stream",
     "text": [
      "100%|██████████| 45/45 [00:33<00:00,  1.33it/s]\n"
     ]
    },
    {
     "name": "stdout",
     "output_type": "stream",
     "text": [
      "train Loss: 0.2805 Acc: 0.9666\n"
     ]
    },
    {
     "name": "stderr",
     "output_type": "stream",
     "text": [
      "100%|██████████| 283/283 [00:55<00:00,  5.06it/s]\n"
     ]
    },
    {
     "name": "stdout",
     "output_type": "stream",
     "text": [
      "val Loss: 0.3458 Acc: 0.9213\n",
      "\n",
      "Epoch 25/49\n",
      "----------\n"
     ]
    },
    {
     "name": "stderr",
     "output_type": "stream",
     "text": [
      "100%|██████████| 45/45 [00:33<00:00,  1.33it/s]\n"
     ]
    },
    {
     "name": "stdout",
     "output_type": "stream",
     "text": [
      "train Loss: 0.2825 Acc: 0.9666\n"
     ]
    },
    {
     "name": "stderr",
     "output_type": "stream",
     "text": [
      "100%|██████████| 283/283 [00:55<00:00,  5.06it/s]\n"
     ]
    },
    {
     "name": "stdout",
     "output_type": "stream",
     "text": [
      "val Loss: 0.3296 Acc: 0.9328\n",
      "\n",
      "Epoch 26/49\n",
      "----------\n"
     ]
    },
    {
     "name": "stderr",
     "output_type": "stream",
     "text": [
      "100%|██████████| 45/45 [00:33<00:00,  1.33it/s]\n"
     ]
    },
    {
     "name": "stdout",
     "output_type": "stream",
     "text": [
      "train Loss: 0.2800 Acc: 0.9675\n"
     ]
    },
    {
     "name": "stderr",
     "output_type": "stream",
     "text": [
      "100%|██████████| 283/283 [00:55<00:00,  5.05it/s]\n"
     ]
    },
    {
     "name": "stdout",
     "output_type": "stream",
     "text": [
      "val Loss: 0.3320 Acc: 0.9309\n",
      "\n",
      "Epoch 27/49\n",
      "----------\n"
     ]
    },
    {
     "name": "stderr",
     "output_type": "stream",
     "text": [
      "100%|██████████| 45/45 [00:33<00:00,  1.32it/s]\n"
     ]
    },
    {
     "name": "stdout",
     "output_type": "stream",
     "text": [
      "train Loss: 0.2745 Acc: 0.9712\n"
     ]
    },
    {
     "name": "stderr",
     "output_type": "stream",
     "text": [
      "100%|██████████| 283/283 [00:56<00:00,  5.04it/s]\n"
     ]
    },
    {
     "name": "stdout",
     "output_type": "stream",
     "text": [
      "val Loss: 0.3272 Acc: 0.9334\n",
      "\n",
      "Epoch 28/49\n",
      "----------\n"
     ]
    },
    {
     "name": "stderr",
     "output_type": "stream",
     "text": [
      "100%|██████████| 45/45 [00:34<00:00,  1.32it/s]\n"
     ]
    },
    {
     "name": "stdout",
     "output_type": "stream",
     "text": [
      "train Loss: 0.2762 Acc: 0.9672\n"
     ]
    },
    {
     "name": "stderr",
     "output_type": "stream",
     "text": [
      "100%|██████████| 283/283 [00:56<00:00,  5.05it/s]\n"
     ]
    },
    {
     "name": "stdout",
     "output_type": "stream",
     "text": [
      "val Loss: 0.3257 Acc: 0.9344\n",
      "\n",
      "Epoch 29/49\n",
      "----------\n"
     ]
    },
    {
     "name": "stderr",
     "output_type": "stream",
     "text": [
      "100%|██████████| 45/45 [00:33<00:00,  1.33it/s]\n"
     ]
    },
    {
     "name": "stdout",
     "output_type": "stream",
     "text": [
      "train Loss: 0.2741 Acc: 0.9695\n"
     ]
    },
    {
     "name": "stderr",
     "output_type": "stream",
     "text": [
      "100%|██████████| 283/283 [00:55<00:00,  5.06it/s]\n"
     ]
    },
    {
     "name": "stdout",
     "output_type": "stream",
     "text": [
      "val Loss: 0.3289 Acc: 0.9310\n",
      "\n",
      "Epoch 30/49\n",
      "----------\n"
     ]
    },
    {
     "name": "stderr",
     "output_type": "stream",
     "text": [
      "100%|██████████| 45/45 [00:33<00:00,  1.33it/s]\n"
     ]
    },
    {
     "name": "stdout",
     "output_type": "stream",
     "text": [
      "train Loss: 0.2764 Acc: 0.9686\n"
     ]
    },
    {
     "name": "stderr",
     "output_type": "stream",
     "text": [
      "100%|██████████| 283/283 [00:55<00:00,  5.07it/s]\n"
     ]
    },
    {
     "name": "stdout",
     "output_type": "stream",
     "text": [
      "val Loss: 0.3404 Acc: 0.9235\n",
      "\n",
      "Epoch 31/49\n",
      "----------\n"
     ]
    },
    {
     "name": "stderr",
     "output_type": "stream",
     "text": [
      "100%|██████████| 45/45 [00:33<00:00,  1.33it/s]\n"
     ]
    },
    {
     "name": "stdout",
     "output_type": "stream",
     "text": [
      "train Loss: 0.2757 Acc: 0.9689\n"
     ]
    },
    {
     "name": "stderr",
     "output_type": "stream",
     "text": [
      "100%|██████████| 283/283 [00:56<00:00,  5.04it/s]\n"
     ]
    },
    {
     "name": "stdout",
     "output_type": "stream",
     "text": [
      "val Loss: 0.3253 Acc: 0.9343\n",
      "\n",
      "Epoch 32/49\n",
      "----------\n"
     ]
    },
    {
     "name": "stderr",
     "output_type": "stream",
     "text": [
      "100%|██████████| 45/45 [00:33<00:00,  1.33it/s]\n"
     ]
    },
    {
     "name": "stdout",
     "output_type": "stream",
     "text": [
      "train Loss: 0.2734 Acc: 0.9709\n"
     ]
    },
    {
     "name": "stderr",
     "output_type": "stream",
     "text": [
      "100%|██████████| 283/283 [00:56<00:00,  5.05it/s]\n"
     ]
    },
    {
     "name": "stdout",
     "output_type": "stream",
     "text": [
      "val Loss: 0.3280 Acc: 0.9320\n",
      "\n",
      "Epoch 33/49\n",
      "----------\n"
     ]
    },
    {
     "name": "stderr",
     "output_type": "stream",
     "text": [
      "100%|██████████| 45/45 [00:33<00:00,  1.32it/s]\n"
     ]
    },
    {
     "name": "stdout",
     "output_type": "stream",
     "text": [
      "train Loss: 0.2722 Acc: 0.9698\n"
     ]
    },
    {
     "name": "stderr",
     "output_type": "stream",
     "text": [
      "100%|██████████| 283/283 [00:56<00:00,  5.05it/s]\n"
     ]
    },
    {
     "name": "stdout",
     "output_type": "stream",
     "text": [
      "val Loss: 0.3256 Acc: 0.9345\n",
      "\n",
      "Epoch 34/49\n",
      "----------\n"
     ]
    },
    {
     "name": "stderr",
     "output_type": "stream",
     "text": [
      "100%|██████████| 45/45 [00:33<00:00,  1.32it/s]\n"
     ]
    },
    {
     "name": "stdout",
     "output_type": "stream",
     "text": [
      "train Loss: 0.2703 Acc: 0.9726\n"
     ]
    },
    {
     "name": "stderr",
     "output_type": "stream",
     "text": [
      "100%|██████████| 283/283 [00:56<00:00,  5.04it/s]\n"
     ]
    },
    {
     "name": "stdout",
     "output_type": "stream",
     "text": [
      "val Loss: 0.3260 Acc: 0.9344\n",
      "\n",
      "Epoch 35/49\n",
      "----------\n"
     ]
    },
    {
     "name": "stderr",
     "output_type": "stream",
     "text": [
      "100%|██████████| 45/45 [00:33<00:00,  1.33it/s]\n"
     ]
    },
    {
     "name": "stdout",
     "output_type": "stream",
     "text": [
      "train Loss: 0.2673 Acc: 0.9763\n"
     ]
    },
    {
     "name": "stderr",
     "output_type": "stream",
     "text": [
      "100%|██████████| 283/283 [00:55<00:00,  5.06it/s]\n"
     ]
    },
    {
     "name": "stdout",
     "output_type": "stream",
     "text": [
      "val Loss: 0.3231 Acc: 0.9354\n",
      "\n",
      "Epoch 36/49\n",
      "----------\n"
     ]
    },
    {
     "name": "stderr",
     "output_type": "stream",
     "text": [
      "100%|██████████| 45/45 [00:34<00:00,  1.32it/s]\n"
     ]
    },
    {
     "name": "stdout",
     "output_type": "stream",
     "text": [
      "train Loss: 0.2665 Acc: 0.9755\n"
     ]
    },
    {
     "name": "stderr",
     "output_type": "stream",
     "text": [
      "100%|██████████| 283/283 [00:56<00:00,  5.05it/s]\n"
     ]
    },
    {
     "name": "stdout",
     "output_type": "stream",
     "text": [
      "val Loss: 0.3230 Acc: 0.9336\n",
      "\n",
      "Epoch 37/49\n",
      "----------\n"
     ]
    },
    {
     "name": "stderr",
     "output_type": "stream",
     "text": [
      "100%|██████████| 45/45 [00:33<00:00,  1.33it/s]\n"
     ]
    },
    {
     "name": "stdout",
     "output_type": "stream",
     "text": [
      "train Loss: 0.2671 Acc: 0.9733\n"
     ]
    },
    {
     "name": "stderr",
     "output_type": "stream",
     "text": [
      "100%|██████████| 283/283 [00:56<00:00,  5.05it/s]\n"
     ]
    },
    {
     "name": "stdout",
     "output_type": "stream",
     "text": [
      "val Loss: 0.3148 Acc: 0.9374\n",
      "\n",
      "Epoch 38/49\n",
      "----------\n"
     ]
    },
    {
     "name": "stderr",
     "output_type": "stream",
     "text": [
      "100%|██████████| 45/45 [00:33<00:00,  1.33it/s]\n"
     ]
    },
    {
     "name": "stdout",
     "output_type": "stream",
     "text": [
      "train Loss: 0.2667 Acc: 0.9732\n"
     ]
    },
    {
     "name": "stderr",
     "output_type": "stream",
     "text": [
      "100%|██████████| 283/283 [00:56<00:00,  5.04it/s]\n"
     ]
    },
    {
     "name": "stdout",
     "output_type": "stream",
     "text": [
      "val Loss: 0.3198 Acc: 0.9366\n",
      "\n",
      "Epoch 39/49\n",
      "----------\n"
     ]
    },
    {
     "name": "stderr",
     "output_type": "stream",
     "text": [
      "100%|██████████| 45/45 [00:33<00:00,  1.32it/s]\n"
     ]
    },
    {
     "name": "stdout",
     "output_type": "stream",
     "text": [
      "train Loss: 0.2649 Acc: 0.9735\n"
     ]
    },
    {
     "name": "stderr",
     "output_type": "stream",
     "text": [
      "100%|██████████| 283/283 [00:56<00:00,  5.05it/s]\n"
     ]
    },
    {
     "name": "stdout",
     "output_type": "stream",
     "text": [
      "val Loss: 0.3127 Acc: 0.9402\n",
      "\n",
      "Epoch 40/49\n",
      "----------\n"
     ]
    },
    {
     "name": "stderr",
     "output_type": "stream",
     "text": [
      "100%|██████████| 45/45 [00:33<00:00,  1.32it/s]\n"
     ]
    },
    {
     "name": "stdout",
     "output_type": "stream",
     "text": [
      "train Loss: 0.2659 Acc: 0.9751\n"
     ]
    },
    {
     "name": "stderr",
     "output_type": "stream",
     "text": [
      "100%|██████████| 283/283 [00:56<00:00,  5.04it/s]\n"
     ]
    },
    {
     "name": "stdout",
     "output_type": "stream",
     "text": [
      "val Loss: 0.3214 Acc: 0.9353\n",
      "\n",
      "Epoch 41/49\n",
      "----------\n"
     ]
    },
    {
     "name": "stderr",
     "output_type": "stream",
     "text": [
      "100%|██████████| 45/45 [00:33<00:00,  1.33it/s]\n"
     ]
    },
    {
     "name": "stdout",
     "output_type": "stream",
     "text": [
      "train Loss: 0.2625 Acc: 0.9765\n"
     ]
    },
    {
     "name": "stderr",
     "output_type": "stream",
     "text": [
      "100%|██████████| 283/283 [00:56<00:00,  5.05it/s]\n"
     ]
    },
    {
     "name": "stdout",
     "output_type": "stream",
     "text": [
      "val Loss: 0.3183 Acc: 0.9383\n",
      "\n",
      "Epoch 42/49\n",
      "----------\n"
     ]
    },
    {
     "name": "stderr",
     "output_type": "stream",
     "text": [
      "100%|██████████| 45/45 [00:33<00:00,  1.34it/s]\n"
     ]
    },
    {
     "name": "stdout",
     "output_type": "stream",
     "text": [
      "train Loss: 0.2602 Acc: 0.9781\n"
     ]
    },
    {
     "name": "stderr",
     "output_type": "stream",
     "text": [
      "100%|██████████| 283/283 [00:56<00:00,  5.05it/s]\n"
     ]
    },
    {
     "name": "stdout",
     "output_type": "stream",
     "text": [
      "val Loss: 0.3151 Acc: 0.9400\n",
      "\n",
      "Epoch 43/49\n",
      "----------\n"
     ]
    },
    {
     "name": "stderr",
     "output_type": "stream",
     "text": [
      "100%|██████████| 45/45 [00:34<00:00,  1.32it/s]\n"
     ]
    },
    {
     "name": "stdout",
     "output_type": "stream",
     "text": [
      "train Loss: 0.2597 Acc: 0.9792\n"
     ]
    },
    {
     "name": "stderr",
     "output_type": "stream",
     "text": [
      "100%|██████████| 283/283 [00:56<00:00,  5.03it/s]\n"
     ]
    },
    {
     "name": "stdout",
     "output_type": "stream",
     "text": [
      "val Loss: 0.3167 Acc: 0.9370\n",
      "\n",
      "Epoch 44/49\n",
      "----------\n"
     ]
    },
    {
     "name": "stderr",
     "output_type": "stream",
     "text": [
      "100%|██████████| 45/45 [00:33<00:00,  1.33it/s]\n"
     ]
    },
    {
     "name": "stdout",
     "output_type": "stream",
     "text": [
      "train Loss: 0.2594 Acc: 0.9783\n"
     ]
    },
    {
     "name": "stderr",
     "output_type": "stream",
     "text": [
      "100%|██████████| 283/283 [00:55<00:00,  5.05it/s]\n"
     ]
    },
    {
     "name": "stdout",
     "output_type": "stream",
     "text": [
      "val Loss: 0.3093 Acc: 0.9431\n",
      "\n",
      "Epoch 45/49\n",
      "----------\n"
     ]
    },
    {
     "name": "stderr",
     "output_type": "stream",
     "text": [
      "100%|██████████| 45/45 [00:33<00:00,  1.33it/s]\n"
     ]
    },
    {
     "name": "stdout",
     "output_type": "stream",
     "text": [
      "train Loss: 0.2554 Acc: 0.9804\n"
     ]
    },
    {
     "name": "stderr",
     "output_type": "stream",
     "text": [
      "100%|██████████| 283/283 [00:56<00:00,  5.03it/s]\n"
     ]
    },
    {
     "name": "stdout",
     "output_type": "stream",
     "text": [
      "val Loss: 0.3192 Acc: 0.9350\n",
      "\n",
      "Epoch 46/49\n",
      "----------\n"
     ]
    },
    {
     "name": "stderr",
     "output_type": "stream",
     "text": [
      "100%|██████████| 45/45 [00:33<00:00,  1.33it/s]\n"
     ]
    },
    {
     "name": "stdout",
     "output_type": "stream",
     "text": [
      "train Loss: 0.2560 Acc: 0.9788\n"
     ]
    },
    {
     "name": "stderr",
     "output_type": "stream",
     "text": [
      "100%|██████████| 283/283 [00:56<00:00,  5.03it/s]\n"
     ]
    },
    {
     "name": "stdout",
     "output_type": "stream",
     "text": [
      "val Loss: 0.3183 Acc: 0.9364\n",
      "\n",
      "Epoch 47/49\n",
      "----------\n"
     ]
    },
    {
     "name": "stderr",
     "output_type": "stream",
     "text": [
      "100%|██████████| 45/45 [00:33<00:00,  1.33it/s]\n"
     ]
    },
    {
     "name": "stdout",
     "output_type": "stream",
     "text": [
      "train Loss: 0.2575 Acc: 0.9799\n"
     ]
    },
    {
     "name": "stderr",
     "output_type": "stream",
     "text": [
      "100%|██████████| 283/283 [00:56<00:00,  5.04it/s]\n"
     ]
    },
    {
     "name": "stdout",
     "output_type": "stream",
     "text": [
      "val Loss: 0.3134 Acc: 0.9392\n",
      "\n",
      "Epoch 48/49\n",
      "----------\n"
     ]
    },
    {
     "name": "stderr",
     "output_type": "stream",
     "text": [
      "100%|██████████| 45/45 [00:34<00:00,  1.32it/s]\n"
     ]
    },
    {
     "name": "stdout",
     "output_type": "stream",
     "text": [
      "train Loss: 0.2542 Acc: 0.9809\n"
     ]
    },
    {
     "name": "stderr",
     "output_type": "stream",
     "text": [
      "100%|██████████| 283/283 [00:55<00:00,  5.06it/s]\n"
     ]
    },
    {
     "name": "stdout",
     "output_type": "stream",
     "text": [
      "val Loss: 0.3136 Acc: 0.9403\n",
      "\n",
      "Epoch 49/49\n",
      "----------\n"
     ]
    },
    {
     "name": "stderr",
     "output_type": "stream",
     "text": [
      "100%|██████████| 45/45 [00:34<00:00,  1.31it/s]\n"
     ]
    },
    {
     "name": "stdout",
     "output_type": "stream",
     "text": [
      "train Loss: 0.2543 Acc: 0.9804\n"
     ]
    },
    {
     "name": "stderr",
     "output_type": "stream",
     "text": [
      "100%|██████████| 283/283 [00:55<00:00,  5.07it/s]"
     ]
    },
    {
     "name": "stdout",
     "output_type": "stream",
     "text": [
      "val Loss: 0.3099 Acc: 0.9403\n",
      "\n",
      "Training complete in 75m 4s\n",
      "Best Train Acc: 0.9809\n",
      "Best Val Acc: 0.9431\n"
     ]
    },
    {
     "name": "stderr",
     "output_type": "stream",
     "text": [
      "\n"
     ]
    }
   ],
   "source": [
    "model_ft = train_model(model, criterion, optimizer, exp_lr_scheduler,num_epochs=no_epochs) \n"
   ]
  },
  {
   "cell_type": "code",
   "execution_count": 20,
   "id": "6ca7adcb",
   "metadata": {
    "execution": {
     "iopub.execute_input": "2023-03-25T16:45:52.548203Z",
     "iopub.status.busy": "2023-03-25T16:45:52.547819Z",
     "iopub.status.idle": "2023-03-25T16:45:52.981347Z",
     "shell.execute_reply": "2023-03-25T16:45:52.980338Z"
    },
    "papermill": {
     "duration": 1.385349,
     "end_time": "2023-03-25T16:45:52.984381",
     "exception": false,
     "start_time": "2023-03-25T16:45:51.599032",
     "status": "completed"
    },
    "tags": []
   },
   "outputs": [],
   "source": [
    "\n",
    "# save the model\n",
    "torch.save(model_ft.state_dict(), \"Deit_Model.pth\")\n"
   ]
  },
  {
   "cell_type": "markdown",
   "id": "89f057ce",
   "metadata": {
    "papermill": {
     "duration": 0.930984,
     "end_time": "2023-03-25T16:45:54.803747",
     "exception": false,
     "start_time": "2023-03-25T16:45:53.872763",
     "status": "completed"
    },
    "tags": []
   },
   "source": [
    "# Graphs"
   ]
  },
  {
   "cell_type": "code",
   "execution_count": 21,
   "id": "4ff80e8d",
   "metadata": {
    "execution": {
     "iopub.execute_input": "2023-03-25T16:45:57.083113Z",
     "iopub.status.busy": "2023-03-25T16:45:57.082748Z",
     "iopub.status.idle": "2023-03-25T16:45:57.315327Z",
     "shell.execute_reply": "2023-03-25T16:45:57.314370Z"
    },
    "papermill": {
     "duration": 1.224125,
     "end_time": "2023-03-25T16:45:57.317399",
     "exception": false,
     "start_time": "2023-03-25T16:45:56.093274",
     "status": "completed"
    },
    "tags": []
   },
   "outputs": [
    {
     "data": {
      "image/png": "[encoded data removed]",
      "text/plain": [
       "<Figure size 640x480 with 1 Axes>"
      ]
     },
     "metadata": {},
     "output_type": "display_data"
    }
   ],
   "source": [
    "x = [i for i in range(no_epochs)]\n",
    "# plot lines\n",
    "plt.plot(x, train_accs, label = \"Training Accuracy\")\n",
    "plt.plot(x, val_accs, label = \"Validation Accuracy\")\n",
    "plt.xlabel(\"Epoch Number\")\n",
    "plt.ylabel(\"Accuracy\")\n",
    "plt.legend()\n",
    "plt.show()"
   ]
  },
  {
   "cell_type": "code",
   "execution_count": 22,
   "id": "d2f44392",
   "metadata": {
    "execution": {
     "iopub.execute_input": "2023-03-25T16:45:59.198916Z",
     "iopub.status.busy": "2023-03-25T16:45:59.198552Z",
     "iopub.status.idle": "2023-03-25T16:45:59.402272Z",
     "shell.execute_reply": "2023-03-25T16:45:59.401281Z"
    },
    "papermill": {
     "duration": 1.151584,
     "end_time": "2023-03-25T16:45:59.404377",
     "exception": false,
     "start_time": "2023-03-25T16:45:58.252793",
     "status": "completed"
    },
    "tags": []
   },
   "outputs": [
    {
     "data": {
      "image/png": "[encoded data removed]",
      "text/plain": [
       "<Figure size 640x480 with 1 Axes>"
      ]
     },
     "metadata": {},
     "output_type": "display_data"
    }
   ],
   "source": [
    "x = [i for i in range(no_epochs)]\n",
    "# plot lines\n",
    "plt.plot(x, train_losses, label = \"Training Loss\")\n",
    "plt.plot(x, val_losses, label = \"Validation Loss\")\n",
    "plt.xlabel(\"Epoch Number\")\n",
    "plt.ylabel(\"Loss\")\n",
    "plt.legend()\n",
    "plt.show()"
   ]
  },
  {
   "cell_type": "markdown",
   "id": "66c26624",
   "metadata": {
    "papermill": {
     "duration": 0.981953,
     "end_time": "2023-03-25T16:46:01.275030",
     "exception": false,
     "start_time": "2023-03-25T16:46:00.293077",
     "status": "completed"
    },
    "tags": []
   },
   "source": [
    "# Test and Dev Accuracies"
   ]
  },
  {
   "cell_type": "code",
   "execution_count": 23,
   "id": "04b9f9a5",
   "metadata": {
    "execution": {
     "iopub.execute_input": "2023-03-25T16:46:03.313119Z",
     "iopub.status.busy": "2023-03-25T16:46:03.312761Z",
     "iopub.status.idle": "2023-03-25T16:46:59.584895Z",
     "shell.execute_reply": "2023-03-25T16:46:59.583565Z"
    },
    "papermill": {
     "duration": 57.263567,
     "end_time": "2023-03-25T16:46:59.587031",
     "exception": false,
     "start_time": "2023-03-25T16:46:02.323464",
     "status": "completed"
    },
    "tags": []
   },
   "outputs": [
    {
     "name": "stderr",
     "output_type": "stream",
     "text": [
      "100%|██████████| 283/283 [00:56<00:00,  5.03it/s]"
     ]
    },
    {
     "name": "stdout",
     "output_type": "stream",
     "text": [
      "Dev Loss: 0.0001\n",
      "Dev Accuracy of  fake: 95% (6641/6930)\n",
      "Dev Accuracy of  true: 89% (1870/2094)\n",
      "Dev Accuracy of 94% (8511/9024)\n"
     ]
    },
    {
     "name": "stderr",
     "output_type": "stream",
     "text": [
      "\n"
     ]
    }
   ],
   "source": [
    "dev_loss = 0.0\n",
    "class_correct = list(0 for i in range(len(classes)))\n",
    "class_total = list(0 for i in range(len(classes)))\n",
    "model_ft.eval()\n",
    "dev_predictions = []\n",
    "dev_targets = []\n",
    "\n",
    "for data, target in tqdm(dev_loader):\n",
    "    data, target = data.to(device), target.to(device)\n",
    "    with torch.no_grad(): # turn off autograd for faster testing\n",
    "        output = model_ft(data)\n",
    "        loss = criterion(output, target)\n",
    "    dev_loss = loss.item() * data.size(0)\n",
    "    _, pred = torch.max(output, 1)\n",
    "    pred_list = np.squeeze(pred.cpu().numpy())\n",
    "    target_list = np.squeeze(target.cpu().numpy())\n",
    "    dev_predictions.extend(pred_list)\n",
    "    dev_targets.extend(target_list)\n",
    "    correct_tensor = pred.eq(target.data.view_as(pred))\n",
    "    correct = np.squeeze(correct_tensor.cpu().numpy())\n",
    "#     print('target',target)\n",
    "#     print('##################################################')\n",
    "#     print('output',output)\n",
    "#     print('##################################################')\n",
    "#     print('pred',pred)\n",
    "#     print('##################################################')\n",
    "#     print('correct_tensor',correct_tensor)\n",
    "#     print('##################################################')\n",
    "#     print('correct',correct)\n",
    "    if len(target) == 32:\n",
    "        for i in range(32):\n",
    "            label = target.data[i]\n",
    "            class_correct[label] += correct[i].item()\n",
    "            class_total[label] += 1\n",
    "\n",
    "# print('class_correct',class_correct)\n",
    "# print('##################################################')\n",
    "# print('class_total',class_total)\n",
    "\n",
    "dev_loss = dev_loss / dev_data_len\n",
    "print('Dev Loss: {:.4f}'.format(dev_loss))\n",
    "for i in range(len(classes)):\n",
    "    if class_total[i] > 0:\n",
    "        print(\"Dev Accuracy of %5s: %2d%% (%2d/%2d)\" % (\n",
    "            classes[i], 100*class_correct[i]/class_total[i], np.sum(class_correct[i]), np.sum(class_total[i])\n",
    "        ))\n",
    "    else:\n",
    "        print(\"Dev accuracy of %5s: NA\" % (classes[i]))\n",
    "print(\"Dev Accuracy of %2d%% (%2d/%2d)\" % (\n",
    "            100*np.sum(class_correct)/np.sum(class_total), np.sum(class_correct), np.sum(class_total)\n",
    "        ))"
   ]
  },
  {
   "cell_type": "code",
   "execution_count": 24,
   "id": "1d50f3fb",
   "metadata": {
    "execution": {
     "iopub.execute_input": "2023-03-25T16:47:01.444923Z",
     "iopub.status.busy": "2023-03-25T16:47:01.444477Z",
     "iopub.status.idle": "2023-03-25T16:47:49.871278Z",
     "shell.execute_reply": "2023-03-25T16:47:49.870176Z"
    },
    "papermill": {
     "duration": 49.382863,
     "end_time": "2023-03-25T16:47:49.873755",
     "exception": false,
     "start_time": "2023-03-25T16:47:00.490892",
     "status": "completed"
    },
    "tags": []
   },
   "outputs": [
    {
     "name": "stderr",
     "output_type": "stream",
     "text": [
      "100%|██████████| 243/243 [00:48<00:00,  5.02it/s]"
     ]
    },
    {
     "name": "stdout",
     "output_type": "stream",
     "text": [
      "Test Loss: 0.0011\n",
      "Test Accuracy of  fake: 84% (5193/6168)\n",
      "Test Accuracy of  true: 84% (1336/1576)\n",
      "Test Accuracy of 84% (6529/7744)\n"
     ]
    },
    {
     "name": "stderr",
     "output_type": "stream",
     "text": [
      "\n"
     ]
    }
   ],
   "source": [
    "test_loss = 0.0\n",
    "class_correct = list(0 for i in range(len(classes)))\n",
    "class_total = list(0 for i in range(len(classes)))\n",
    "model_ft.eval()\n",
    "test_predictions = []\n",
    "test_targets = []\n",
    "\n",
    "for data, target in tqdm(test_loader):\n",
    "    data, target = data.to(device), target.to(device)\n",
    "    with torch.no_grad(): # turn off autograd for faster testing\n",
    "        output = model_ft(data)\n",
    "        loss = criterion(output, target)\n",
    "    test_loss = loss.item() * data.size(0)\n",
    "    _, pred = torch.max(output, 1)\n",
    "    pred_list = np.squeeze(pred.cpu().numpy())\n",
    "    target_list = np.squeeze(target.cpu().numpy())\n",
    "    test_predictions.extend(pred_list)\n",
    "    test_targets.extend(target_list)\n",
    "    correct_tensor = pred.eq(target.data.view_as(pred))\n",
    "    correct = np.squeeze(correct_tensor.cpu().numpy())\n",
    "#     print('target',target)\n",
    "#     print('##################################################')\n",
    "#     print('output',output)\n",
    "#     print('##################################################')\n",
    "#     print('pred',pred)\n",
    "#     print('##################################################')\n",
    "#     print('correct_tensor',correct_tensor)\n",
    "#     print('##################################################')\n",
    "#     print('correct',correct)\n",
    "    if len(target) == 32:\n",
    "        for i in range(32):\n",
    "            label = target.data[i]\n",
    "            class_correct[label] += correct[i].item()\n",
    "            class_total[label] += 1\n",
    "\n",
    "# print('class_correct',class_correct)\n",
    "# print('##################################################')\n",
    "# print('class_total',class_total)\n",
    "\n",
    "test_loss = test_loss / test_data_len\n",
    "print('Test Loss: {:.4f}'.format(test_loss))\n",
    "for i in range(len(classes)):\n",
    "    if class_total[i] > 0:\n",
    "        print(\"Test Accuracy of %5s: %2d%% (%2d/%2d)\" % (\n",
    "            classes[i], 100*class_correct[i]/class_total[i], np.sum(class_correct[i]), np.sum(class_total[i])\n",
    "        ))\n",
    "    else:\n",
    "        print(\"Test accuracy of %5s: NA\" % (classes[i]))\n",
    "print(\"Test Accuracy of %2d%% (%2d/%2d)\" % (\n",
    "            100*np.sum(class_correct)/np.sum(class_total), np.sum(class_correct), np.sum(class_total)\n",
    "        ))\n",
    "\n"
   ]
  },
  {
   "cell_type": "markdown",
   "id": "e7a6b2da",
   "metadata": {
    "papermill": {
     "duration": 1.174697,
     "end_time": "2023-03-25T16:47:51.993369",
     "exception": false,
     "start_time": "2023-03-25T16:47:50.818672",
     "status": "completed"
    },
    "tags": []
   },
   "source": [
    "# Save the model"
   ]
  },
  {
   "cell_type": "code",
   "execution_count": 25,
   "id": "c6f36f7f",
   "metadata": {
    "execution": {
     "iopub.execute_input": "2023-03-25T16:47:53.896007Z",
     "iopub.status.busy": "2023-03-25T16:47:53.895623Z",
     "iopub.status.idle": "2023-03-25T16:47:57.460787Z",
     "shell.execute_reply": "2023-03-25T16:47:57.459563Z"
    },
    "papermill": {
     "duration": 4.556607,
     "end_time": "2023-03-25T16:47:57.463411",
     "exception": false,
     "start_time": "2023-03-25T16:47:52.906804",
     "status": "completed"
    },
    "tags": []
   },
   "outputs": [],
   "source": [
    "example = torch.rand(1, 3, 224, 224)\n",
    "traced_script_module = torch.jit.trace(model.cpu(), example)\n",
    "traced_script_module.save(\"vit_model.pt\")"
   ]
  },
  {
   "cell_type": "code",
   "execution_count": 26,
   "id": "a89aeef6",
   "metadata": {
    "execution": {
     "iopub.execute_input": "2023-03-25T16:47:59.365023Z",
     "iopub.status.busy": "2023-03-25T16:47:59.364658Z",
     "iopub.status.idle": "2023-03-25T16:47:59.368950Z",
     "shell.execute_reply": "2023-03-25T16:47:59.367943Z"
    },
    "papermill": {
     "duration": 0.901826,
     "end_time": "2023-03-25T16:47:59.371035",
     "exception": false,
     "start_time": "2023-03-25T16:47:58.469209",
     "status": "completed"
    },
    "tags": []
   },
   "outputs": [],
   "source": [
    "# print('Target Labels: ',len(targets))\n",
    "# print('Prediction Labels: ',len(predictions))"
   ]
  },
  {
   "cell_type": "markdown",
   "id": "aa571f14",
   "metadata": {
    "papermill": {
     "duration": 0.981545,
     "end_time": "2023-03-25T16:48:01.326975",
     "exception": false,
     "start_time": "2023-03-25T16:48:00.345430",
     "status": "completed"
    },
    "tags": []
   },
   "source": [
    "# Other Metrics"
   ]
  },
  {
   "cell_type": "code",
   "execution_count": 27,
   "id": "c3519c0d",
   "metadata": {
    "execution": {
     "iopub.execute_input": "2023-03-25T16:48:03.943219Z",
     "iopub.status.busy": "2023-03-25T16:48:03.942275Z",
     "iopub.status.idle": "2023-03-25T16:48:03.958593Z",
     "shell.execute_reply": "2023-03-25T16:48:03.957332Z"
    },
    "papermill": {
     "duration": 1.036706,
     "end_time": "2023-03-25T16:48:03.960740",
     "exception": false,
     "start_time": "2023-03-25T16:48:02.924034",
     "status": "completed"
    },
    "tags": []
   },
   "outputs": [
    {
     "name": "stdout",
     "output_type": "stream",
     "text": [
      "The EER for Dev is: 7.44\n",
      "The EER for Test is: 15.54\n"
     ]
    }
   ],
   "source": [
    "#EER\n",
    "def compute_eer(label, pred, positive_label=1):\n",
    "    # all fpr, tpr, fnr, fnr, threshold are lists (in the format of np.array)\n",
    "    fpr, tpr, threshold = sklearn.metrics.roc_curve(label, pred)\n",
    "    fnr = 1 - tpr\n",
    "\n",
    "    # the threshold of fnr == fpr\n",
    "    eer_threshold = threshold[np.nanargmin(np.absolute((fnr - fpr)))]\n",
    "\n",
    "    # theoretically eer from fpr and eer from fnr should be identical but they can be slightly differ in reality\n",
    "    eer_1 = fpr[np.nanargmin(np.absolute((fnr - fpr)))]\n",
    "    eer_2 = fnr[np.nanargmin(np.absolute((fnr - fpr)))]\n",
    "\n",
    "    # return the mean of eer from fpr and from fnr\n",
    "    eer = (eer_1 + eer_2) / 2\n",
    "   \n",
    "    return eer\n",
    "\n",
    "test_EER = compute_eer(test_targets,test_predictions)\n",
    "dev_EER = compute_eer(dev_targets,dev_predictions)\n",
    "\n",
    "print('The EER for Dev is: {:.2f}'.format(dev_EER*100))\n",
    "print('The EER for Test is: {:.2f}'.format(test_EER*100))"
   ]
  },
  {
   "cell_type": "code",
   "execution_count": 28,
   "id": "0e9c7728",
   "metadata": {
    "execution": {
     "iopub.execute_input": "2023-03-25T16:48:05.818864Z",
     "iopub.status.busy": "2023-03-25T16:48:05.818507Z",
     "iopub.status.idle": "2023-03-25T16:48:05.837831Z",
     "shell.execute_reply": "2023-03-25T16:48:05.836544Z"
    },
    "papermill": {
     "duration": 0.978669,
     "end_time": "2023-03-25T16:48:05.840138",
     "exception": false,
     "start_time": "2023-03-25T16:48:04.861469",
     "status": "completed"
    },
    "tags": []
   },
   "outputs": [
    {
     "name": "stdout",
     "output_type": "stream",
     "text": [
      "The HTER for Dev is: 7.44\n",
      "The HTER for Test is: 15.54\n"
     ]
    }
   ],
   "source": [
    "#HTER\n",
    "def calculate_HTER(y_true, y_pred):\n",
    "    cm = confusion_matrix(y_true, y_pred)\n",
    "    tn, fp, fn, tp = cm.ravel()\n",
    "    far = fp / (fp + tn)\n",
    "    frr = fn / (tp + fn)\n",
    "    hter = (far + frr) / 2\n",
    "    return hter\n",
    "\n",
    "dev_hter = calculate_HTER(dev_targets, dev_predictions)\n",
    "print('The HTER for Dev is: {:.2f}'.format(dev_hter*100))\n",
    "\n",
    "test_hter = calculate_HTER(test_targets, test_predictions)\n",
    "print('The HTER for Test is: {:.2f}'.format(test_hter*100))\n",
    "\n"
   ]
  },
  {
   "cell_type": "code",
   "execution_count": 29,
   "id": "a1e402e5",
   "metadata": {
    "execution": {
     "iopub.execute_input": "2023-03-25T16:48:07.750340Z",
     "iopub.status.busy": "2023-03-25T16:48:07.749970Z",
     "iopub.status.idle": "2023-03-25T16:48:07.793406Z",
     "shell.execute_reply": "2023-03-25T16:48:07.792172Z"
    },
    "papermill": {
     "duration": 1.003856,
     "end_time": "2023-03-25T16:48:07.796005",
     "exception": false,
     "start_time": "2023-03-25T16:48:06.792149",
     "status": "completed"
    },
    "tags": []
   },
   "outputs": [
    {
     "name": "stdout",
     "output_type": "stream",
     "text": [
      "######## Dev Oulu Metrics ##########\n",
      "APCER: 4.18\n",
      "BPCER: 10.69\n",
      "ACER: 7.44\n",
      "######## Test Oulu Metrics ##########\n",
      "APCER: 15.81\n",
      "BPCER: 15.26\n",
      "ACER: 15.54\n"
     ]
    }
   ],
   "source": [
    "#APCER, BPCER, ACER\n",
    "test_attack_types = [ (1 if x==1 else 2) for x in test_targets]\n",
    "dev_attack_types = [ (1 if x==1 else 2) for x in dev_targets]\n",
    "\n",
    "\n",
    "# returns the metrics APCER, BPCER and ACER\n",
    "test_apcer, test_bpcer, test_acer = oulumetrics.calculate_metrics(test_attack_types, test_predictions)\n",
    "dev_apcer, dev_bpcer, dev_acer = oulumetrics.calculate_metrics(dev_attack_types, dev_predictions)\n",
    "\n",
    "print('######## Dev Oulu Metrics ##########')\n",
    "print('APCER: {:.2f}'.format(dev_apcer*100))\n",
    "print('BPCER: {:.2f}'.format(dev_bpcer*100))\n",
    "print('ACER: {:.2f}'.format(dev_acer*100))\n",
    "\n",
    "print('######## Test Oulu Metrics ##########')\n",
    "print('APCER: {:.2f}'.format(test_apcer*100))\n",
    "print('BPCER: {:.2f}'.format(test_bpcer*100))\n",
    "print('ACER: {:.2f}'.format(test_acer*100))\n",
    "\n",
    "\n",
    "\n"
   ]
  },
  {
   "cell_type": "code",
   "execution_count": 30,
   "id": "a0eba3f7",
   "metadata": {
    "execution": {
     "iopub.execute_input": "2023-03-25T16:48:09.660541Z",
     "iopub.status.busy": "2023-03-25T16:48:09.660163Z",
     "iopub.status.idle": "2023-03-25T16:48:09.680372Z",
     "shell.execute_reply": "2023-03-25T16:48:09.679351Z"
    },
    "papermill": {
     "duration": 0.979866,
     "end_time": "2023-03-25T16:48:09.682536",
     "exception": false,
     "start_time": "2023-03-25T16:48:08.702670",
     "status": "completed"
    },
    "tags": []
   },
   "outputs": [
    {
     "name": "stdout",
     "output_type": "stream",
     "text": [
      "Confusion Matrix:\n",
      "[[5202  977]\n",
      " [ 241 1338]]\n",
      "F1 Score: 0.6872110939907549\n"
     ]
    }
   ],
   "source": [
    "# Compute confusion matrix\n",
    "cm = confusion_matrix(test_targets, test_predictions)\n",
    "print(\"Confusion Matrix:\")\n",
    "print(cm)\n",
    "\n",
    "# Compute F1 score\n",
    "f1 = f1_score(test_targets, test_predictions)\n",
    "print(\"F1 Score:\", f1)"
   ]
  },
  {
   "cell_type": "code",
   "execution_count": 31,
   "id": "c86772c0",
   "metadata": {
    "execution": {
     "iopub.execute_input": "2023-03-25T16:48:11.577502Z",
     "iopub.status.busy": "2023-03-25T16:48:11.576609Z",
     "iopub.status.idle": "2023-03-25T16:48:11.820221Z",
     "shell.execute_reply": "2023-03-25T16:48:11.819258Z"
    },
    "papermill": {
     "duration": 1.208883,
     "end_time": "2023-03-25T16:48:11.822246",
     "exception": false,
     "start_time": "2023-03-25T16:48:10.613363",
     "status": "completed"
    },
    "tags": []
   },
   "outputs": [
    {
     "data": {
      "text/plain": [
       "<matplotlib.legend.Legend at 0x7f585c08a6d0>"
      ]
     },
     "execution_count": 31,
     "metadata": {},
     "output_type": "execute_result"
    },
    {
     "data": {
      "image/png": "[encoded data removed]",
      "text/plain": [
       "<Figure size 640x480 with 1 Axes>"
      ]
     },
     "metadata": {},
     "output_type": "display_data"
    }
   ],
   "source": [
    "from sklearn.metrics import roc_curve\n",
    "import matplotlib.pyplot as plt\n",
    "\n",
    "# Compute ROC curve\n",
    "fpr, tpr, thresholds = roc_curve(test_targets, test_predictions)\n",
    "\n",
    "# Plot ROC curve\n",
    "plt.plot(fpr, tpr, color='blue', label='ROC Curve')\n",
    "plt.plot([0, 1], [0, 1], color='red', linestyle='--', label='Random Guess')\n",
    "plt.xlabel('False Positive Rate')\n",
    "plt.ylabel('True Positive Rate')\n",
    "plt.title('Receiver Operating Characteristic (ROC) Curve')\n",
    "plt.legend()\n",
    "\n",
    "# # Add predicted labels to plot\n",
    "# for i, threshold in enumerate(thresholds):\n",
    "#     plt.annotate(threshold, (fpr[i], tpr[i]), textcoords=\"offset points\", xytext=(0,10), ha='center')\n",
    "\n",
    "# for i, label in enumerate(test_predictions):\n",
    "#     if label == 1:\n",
    "#         plt.plot(fpr[i], tpr[i], 'o', color='green')\n",
    "#     else:\n",
    "#         plt.plot(fpr[i], tpr[i], 'o', color='red')\n",
    "\n",
    "# plt.show()\n"
   ]
  }
 ],
 "metadata": {
  "kernelspec": {
   "display_name": "Python 3",
   "language": "python",
   "name": "python3"
  },
  "language_info": {
   "codemirror_mode": {
    "name": "ipython",
    "version": 3
   },
   "file_extension": ".py",
   "mimetype": "text/x-python",
   "name": "python",
   "nbconvert_exporter": "python",
   "pygments_lexer": "ipython3",
   "version": "3.7.12"
  },
  "papermill": {
   "default_parameters": {},
   "duration": 4732.643157,
   "end_time": "2023-03-25T16:48:14.748119",
   "environment_variables": {},
   "exception": null,
   "input_path": "__notebook__.ipynb",
   "output_path": "__notebook__.ipynb",
   "parameters": {},
   "start_time": "2023-03-25T15:29:22.104962",
   "version": "2.4.0"
  },
  "widgets": {
   "application/vnd.jupyter.widget-state+json": {
    "state": {
     "0354f582f33b449a82b70a7aa9766fa1": {
      "model_module": "@jupyter-widgets/controls",
      "model_module_version": "1.5.0",
      "model_name": "HBoxModel",
      "state": {
       "_dom_classes": [],
       "_model_module": "@jupyter-widgets/controls",
       "_model_module_version": "1.5.0",
       "_model_name": "HBoxModel",
       "_view_count": null,
       "_view_module": "@jupyter-widgets/controls",
       "_view_module_version": "1.5.0",
       "_view_name": "HBoxView",
       "box_style": "",
       "children": [
        "IPY_MODEL_41a3543511e3410db965bbbd2aadcf45",
        "IPY_MODEL_bffa8c42220a42f6804642d9265b0a2a",
        "IPY_MODEL_1bd18d286fe346daa0ec6bb0460fc4f0"
       ],
       "layout": "IPY_MODEL_522432dc94bd4e57835f2d59cbcb5afa"
      }
     },
     "1bd18d286fe346daa0ec6bb0460fc4f0": {
      "model_module": "@jupyter-widgets/controls",
      "model_module_version": "1.5.0",
      "model_name": "HTMLModel",
      "state": {
       "_dom_classes": [],
       "_model_module": "@jupyter-widgets/controls",
       "_model_module_version": "1.5.0",
       "_model_name": "HTMLModel",
       "_view_count": null,
       "_view_module": "@jupyter-widgets/controls",
       "_view_module_version": "1.5.0",
       "_view_name": "HTMLView",
       "description": "",
       "description_tooltip": null,
       "layout": "IPY_MODEL_29879462e93c40468cbdac6bce8deb40",
       "placeholder": "​",
       "style": "IPY_MODEL_b9c99fae866d44889a3672917fec0e21",
       "value": " 330M/330M [00:02&lt;00:00, 127MB/s]"
      }
     },
     "29879462e93c40468cbdac6bce8deb40": {
      "model_module": "@jupyter-widgets/base",
      "model_module_version": "1.2.0",
      "model_name": "LayoutModel",
      "state": {
       "_model_module": "@jupyter-widgets/base",
       "_model_module_version": "1.2.0",
       "_model_name": "LayoutModel",
       "_view_count": null,
       "_view_module": "@jupyter-widgets/base",
       "_view_module_version": "1.2.0",
       "_view_name": "LayoutView",
       "align_content": null,
       "align_items": null,
       "align_self": null,
       "border": null,
       "bottom": null,
       "display": null,
       "flex": null,
       "flex_flow": null,
       "grid_area": null,
       "grid_auto_columns": null,
       "grid_auto_flow": null,
       "grid_auto_rows": null,
       "grid_column": null,
       "grid_gap": null,
       "grid_row": null,
       "grid_template_areas": null,
       "grid_template_columns": null,
       "grid_template_rows": null,
       "height": null,
       "justify_content": null,
       "justify_items": null,
       "left": null,
       "margin": null,
       "max_height": null,
       "max_width": null,
       "min_height": null,
       "min_width": null,
       "object_fit": null,
       "object_position": null,
       "order": null,
       "overflow": null,
       "overflow_x": null,
       "overflow_y": null,
       "padding": null,
       "right": null,
       "top": null,
       "visibility": null,
       "width": null
      }
     },
     "3378c8b694544338b1766b1a252866b0": {
      "model_module": "@jupyter-widgets/base",
      "model_module_version": "1.2.0",
      "model_name": "LayoutModel",
      "state": {
       "_model_module": "@jupyter-widgets/base",
       "_model_module_version": "1.2.0",
       "_model_name": "LayoutModel",
       "_view_count": null,
       "_view_module": "@jupyter-widgets/base",
       "_view_module_version": "1.2.0",
       "_view_name": "LayoutView",
       "align_content": null,
       "align_items": null,
       "align_self": null,
       "border": null,
       "bottom": null,
       "display": null,
       "flex": null,
       "flex_flow": null,
       "grid_area": null,
       "grid_auto_columns": null,
       "grid_auto_flow": null,
       "grid_auto_rows": null,
       "grid_column": null,
       "grid_gap": null,
       "grid_row": null,
       "grid_template_areas": null,
       "grid_template_columns": null,
       "grid_template_rows": null,
       "height": null,
       "justify_content": null,
       "justify_items": null,
       "left": null,
       "margin": null,
       "max_height": null,
       "max_width": null,
       "min_height": null,
       "min_width": null,
       "object_fit": null,
       "object_position": null,
       "order": null,
       "overflow": null,
       "overflow_x": null,
       "overflow_y": null,
       "padding": null,
       "right": null,
       "top": null,
       "visibility": null,
       "width": null
      }
     },
     "41a3543511e3410db965bbbd2aadcf45": {
      "model_module": "@jupyter-widgets/controls",
      "model_module_version": "1.5.0",
      "model_name": "HTMLModel",
      "state": {
       "_dom_classes": [],
       "_model_module": "@jupyter-widgets/controls",
       "_model_module_version": "1.5.0",
       "_model_name": "HTMLModel",
       "_view_count": null,
       "_view_module": "@jupyter-widgets/controls",
       "_view_module_version": "1.5.0",
       "_view_name": "HTMLView",
       "description": "",
       "description_tooltip": null,
       "layout": "IPY_MODEL_3378c8b694544338b1766b1a252866b0",
       "placeholder": "​",
       "style": "IPY_MODEL_a6089a2e0ccd449b81cf1adee2ef2eb3",
       "value": "100%"
      }
     },
     "522432dc94bd4e57835f2d59cbcb5afa": {
      "model_module": "@jupyter-widgets/base",
      "model_module_version": "1.2.0",
      "model_name": "LayoutModel",
      "state": {
       "_model_module": "@jupyter-widgets/base",
       "_model_module_version": "1.2.0",
       "_model_name": "LayoutModel",
       "_view_count": null,
       "_view_module": "@jupyter-widgets/base",
       "_view_module_version": "1.2.0",
       "_view_name": "LayoutView",
       "align_content": null,
       "align_items": null,
       "align_self": null,
       "border": null,
       "bottom": null,
       "display": null,
       "flex": null,
       "flex_flow": null,
       "grid_area": null,
       "grid_auto_columns": null,
       "grid_auto_flow": null,
       "grid_auto_rows": null,
       "grid_column": null,
       "grid_gap": null,
       "grid_row": null,
       "grid_template_areas": null,
       "grid_template_columns": null,
       "grid_template_rows": null,
       "height": null,
       "justify_content": null,
       "justify_items": null,
       "left": null,
       "margin": null,
       "max_height": null,
       "max_width": null,
       "min_height": null,
       "min_width": null,
       "object_fit": null,
       "object_position": null,
       "order": null,
       "overflow": null,
       "overflow_x": null,
       "overflow_y": null,
       "padding": null,
       "right": null,
       "top": null,
       "visibility": null,
       "width": null
      }
     },
     "a6089a2e0ccd449b81cf1adee2ef2eb3": {
      "model_module": "@jupyter-widgets/controls",
      "model_module_version": "1.5.0",
      "model_name": "DescriptionStyleModel",
      "state": {
       "_model_module": "@jupyter-widgets/controls",
       "_model_module_version": "1.5.0",
       "_model_name": "DescriptionStyleModel",
       "_view_count": null,
       "_view_module": "@jupyter-widgets/base",
       "_view_module_version": "1.2.0",
       "_view_name": "StyleView",
       "description_width": ""
      }
     },
     "acb8645a19cf419d9d4d2cfdac027622": {
      "model_module": "@jupyter-widgets/controls",
      "model_module_version": "1.5.0",
      "model_name": "ProgressStyleModel",
      "state": {
       "_model_module": "@jupyter-widgets/controls",
       "_model_module_version": "1.5.0",
       "_model_name": "ProgressStyleModel",
       "_view_count": null,
       "_view_module": "@jupyter-widgets/base",
       "_view_module_version": "1.2.0",
       "_view_name": "StyleView",
       "bar_color": null,
       "description_width": ""
      }
     },
     "b9c99fae866d44889a3672917fec0e21": {
      "model_module": "@jupyter-widgets/controls",
      "model_module_version": "1.5.0",
      "model_name": "DescriptionStyleModel",
      "state": {
       "_model_module": "@jupyter-widgets/controls",
       "_model_module_version": "1.5.0",
       "_model_name": "DescriptionStyleModel",
       "_view_count": null,
       "_view_module": "@jupyter-widgets/base",
       "_view_module_version": "1.2.0",
       "_view_name": "StyleView",
       "description_width": ""
      }
     },
     "bffa8c42220a42f6804642d9265b0a2a": {
      "model_module": "@jupyter-widgets/controls",
      "model_module_version": "1.5.0",
      "model_name": "FloatProgressModel",
      "state": {
       "_dom_classes": [],
       "_model_module": "@jupyter-widgets/controls",
       "_model_module_version": "1.5.0",
       "_model_name": "FloatProgressModel",
       "_view_count": null,
       "_view_module": "@jupyter-widgets/controls",
       "_view_module_version": "1.5.0",
       "_view_name": "ProgressView",
       "bar_style": "success",
       "description": "",
       "description_tooltip": null,
       "layout": "IPY_MODEL_eef4990c9b6047cda82cf76da55e8ed3",
       "max": 346319111.0,
       "min": 0.0,
       "orientation": "horizontal",
       "style": "IPY_MODEL_acb8645a19cf419d9d4d2cfdac027622",
       "value": 346319111.0
      }
     },
     "eef4990c9b6047cda82cf76da55e8ed3": {
      "model_module": "@jupyter-widgets/base",
      "model_module_version": "1.2.0",
      "model_name": "LayoutModel",
      "state": {
       "_model_module": "@jupyter-widgets/base",
       "_model_module_version": "1.2.0",
       "_model_name": "LayoutModel",
       "_view_count": null,
       "_view_module": "@jupyter-widgets/base",
       "_view_module_version": "1.2.0",
       "_view_name": "LayoutView",
       "align_content": null,
       "align_items": null,
       "align_self": null,
       "border": null,
       "bottom": null,
       "display": null,
       "flex": null,
       "flex_flow": null,
       "grid_area": null,
       "grid_auto_columns": null,
       "grid_auto_flow": null,
       "grid_auto_rows": null,
       "grid_column": null,
       "grid_gap": null,
       "grid_row": null,
       "grid_template_areas": null,
       "grid_template_columns": null,
       "grid_template_rows": null,
       "height": null,
       "justify_content": null,
       "justify_items": null,
       "left": null,
       "margin": null,
       "max_height": null,
       "max_width": null,
       "min_height": null,
       "min_width": null,
       "object_fit": null,
       "object_position": null,
       "order": null,
       "overflow": null,
       "overflow_x": null,
       "overflow_y": null,
       "padding": null,
       "right": null,
       "top": null,
       "visibility": null,
       "width": null
      }
     }
    },
    "version_major": 2,
    "version_minor": 0
   }
  }
 },
 "nbformat": 4,
 "nbformat_minor": 5
}
