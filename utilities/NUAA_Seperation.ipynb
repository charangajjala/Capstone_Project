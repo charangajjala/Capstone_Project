{
 "cells": [
  {
   "cell_type": "code",
   "execution_count": 1,
   "id": "68dc5b3c",
   "metadata": {},
   "outputs": [],
   "source": [
    "import os\n",
    "import glob\n",
    "import shutil\n",
    "import numpy as np\n",
    "import pandas as pd\n",
    "import pathlib\n",
    " \n"
   ]
  },
  {
   "cell_type": "code",
   "execution_count": 2,
   "id": "91796c5e",
   "metadata": {},
   "outputs": [],
   "source": [
    "protocol = 'protocol1'\n",
    "# color_spaces = [ 'RGB'] # 'LAB','Grey','RGB'\n",
    "dataset_name = 'NUAA_Dataset'\n",
    "csv_main_path = f'C:\\\\Users\\\\Charan\\\\Desktop\\\\Capstone\\\\Data\\\\protocol_csvs\\\\{dataset_name}\\\\'\n",
    "\n",
    "\n",
    "for color_space in color_spaces:\n",
    "    \n",
    "        main_src = f'C:\\\\Users\\\\Charan\\\\Desktop\\\\Capstone\\\\Data\\\\ColorSpace_Datasets\\\\Source_ColorSpaces\\\\{dataset_name}\\\\{color_space}_LBP\\\\'\n",
    "        main_dest = f'C:\\\\Users\\\\Charan\\\\Desktop\\\\Capstone\\\\Data\\\\ColorSpace_Datasets\\\\LBP_ColorSpaces\\\\{dataset_name}\\\\{protocol.capitalize()}\\\\{\"NUAA\"}_{color_space}_Seperated\\\\'\n",
    "\n",
    "  \n",
    "        for typ1 in ['dev','test','train']:\n",
    "        \n",
    "          for typ2 in ['ClientFace','ImposterFace']:\n",
    "                src = f\"{main_src}{typ2}\\\\\"\n",
    "                csv_path = f\"{csv_main_path}{protocol}\\\\{typ1}.csv\" \n",
    "                Docdf = pd.read_csv(csv_path)\n",
    "                destpath_true = f\"{main_dest}{typ1}\\\\true\\\\\"\n",
    "                destpath_fake = f\"{main_dest}{typ1}\\\\fake\\\\\"\n",
    "                pathlib.Path(destpath_fake).mkdir(parents=True, exist_ok=True)\n",
    "                pathlib.Path(destpath_true).mkdir(parents=True, exist_ok=True)\n",
    "\n",
    "                def copying(row):\n",
    "                    img_id = row['image_id'][5:]\n",
    "                    if (typ2=='ClientFace'):   #row['label']==1\n",
    "                        oldpath = src + img_id # column E\n",
    "                        newpath = destpath_true + img_id # column B\n",
    "                        try:\n",
    "                            shutil.copyfile(oldpath, newpath)\n",
    "                        except FileNotFoundError:\n",
    "                            pass\n",
    "\n",
    "                    elif (typ2=='ImposterFace'):  # row['label'] != 1\n",
    "                        oldpath = src + img_id # column E\n",
    "                        newpath = destpath_fake + img_id # column B\n",
    "                        try:\n",
    "                            shutil.copyfile(oldpath, newpath)\n",
    "                        except FileNotFoundError:\n",
    "                            pass\n",
    "\n",
    "                    return newpath\n",
    "\n",
    "                Docdf['new_path'] = Docdf.apply(copying, axis=1)\n",
    "\n",
    "    "
   ]
  },
  {
   "cell_type": "code",
   "execution_count": null,
   "id": "4dc907fc",
   "metadata": {},
   "outputs": [],
   "source": []
  },
  {
   "cell_type": "code",
   "execution_count": null,
   "id": "8ac900e2",
   "metadata": {},
   "outputs": [],
   "source": []
  },
  {
   "cell_type": "code",
   "execution_count": null,
   "id": "50a53b41",
   "metadata": {},
   "outputs": [],
   "source": []
  },
  {
   "cell_type": "code",
   "execution_count": 1,
   "id": "bc5bd5aa",
   "metadata": {},
   "outputs": [
    {
     "name": "stdout",
     "output_type": "stream",
     "text": [
      "Collecting shutils\n",
      "  Downloading shutils-0.1.0.tar.gz (2.3 kB)\n",
      "  Preparing metadata (setup.py): started"
     ]
    },
    {
     "name": "stderr",
     "output_type": "stream",
     "text": [
      "\n",
      "[notice] A new release of pip available: 22.2.2 -> 22.3.1\n",
      "[notice] To update, run: python.exe -m pip install --upgrade pip\n"
     ]
    },
    {
     "name": "stdout",
     "output_type": "stream",
     "text": [
      "\n",
      "  Preparing metadata (setup.py): finished with status 'done'\n",
      "Collecting configparser\n",
      "  Downloading configparser-5.3.0-py3-none-any.whl (19 kB)\n",
      "Collecting pymysql\n",
      "  Downloading PyMySQL-1.0.2-py3-none-any.whl (43 kB)\n",
      "     ---------------------------------------- 43.8/43.8 kB 2.1 MB/s eta 0:00:00\n",
      "Building wheels for collected packages: shutils\n",
      "  Building wheel for shutils (setup.py): started\n",
      "  Building wheel for shutils (setup.py): finished with status 'done'\n",
      "  Created wheel for shutils: filename=shutils-0.1.0-py3-none-any.whl size=3289 sha256=b3a560a34f1aed740e71bcd17b38f7813d0f5dea25eeecb4fad3ccd65dc2c1f2\n",
      "  Stored in directory: c:\\users\\charan\\appdata\\local\\pip\\cache\\wheels\\60\\2b\\ed\\d7a4f527cef4729d5f786052cde8b0410b5fb25c64bce8b722\n",
      "Successfully built shutils\n",
      "Installing collected packages: pymysql, configparser, shutils\n",
      "Successfully installed configparser-5.3.0 pymysql-1.0.2 shutils-0.1.0\n",
      "Collecting pytest-shutil\n",
      "  Downloading pytest_shutil-1.7.0-py2.py3-none-any.whl (15 kB)\n",
      "Requirement already satisfied: six in c:\\users\\charan\\anaconda3\\lib\\site-packages (from pytest-shutil) (1.16.0)\n",
      "Collecting pytest\n",
      "  Downloading pytest-7.2.1-py3-none-any.whl (317 kB)\n",
      "     -------------------------------------- 317.1/317.1 kB 3.3 MB/s eta 0:00:00\n",
      "Collecting termcolor\n",
      "  Downloading termcolor-2.2.0-py3-none-any.whl (6.6 kB)\n",
      "Collecting path.py\n",
      "  Downloading path.py-12.5.0-py3-none-any.whl (2.3 kB)\n",
      "Collecting mock\n",
      "  Downloading mock-5.0.1-py3-none-any.whl (30 kB)\n",
      "Collecting execnet\n",
      "  Downloading execnet-1.9.0-py2.py3-none-any.whl (39 kB)\n",
      "Collecting contextlib2\n",
      "  Downloading contextlib2-21.6.0-py2.py3-none-any.whl (13 kB)\n",
      "Collecting path\n",
      "  Downloading path-16.6.0-py3-none-any.whl (26 kB)\n",
      "Collecting iniconfig\n",
      "  Downloading iniconfig-2.0.0-py3-none-any.whl (5.9 kB)\n",
      "Collecting tomli>=1.0.0\n",
      "  Downloading tomli-2.0.1-py3-none-any.whl (12 kB)\n",
      "Requirement already satisfied: attrs>=19.2.0 in c:\\users\\charan\\anaconda3\\lib\\site-packages (from pytest->pytest-shutil) (21.4.0)\n",
      "Collecting pluggy<2.0,>=0.12\n",
      "  Downloading pluggy-1.0.0-py2.py3-none-any.whl (13 kB)\n",
      "Collecting exceptiongroup>=1.0.0rc8\n",
      "  Downloading exceptiongroup-1.1.0-py3-none-any.whl (14 kB)\n",
      "Requirement already satisfied: colorama in c:\\users\\charan\\anaconda3\\lib\\site-packages (from pytest->pytest-shutil) (0.4.4)\n",
      "Requirement already satisfied: packaging in c:\\users\\charan\\anaconda3\\lib\\site-packages (from pytest->pytest-shutil) (21.3)\n",
      "Requirement already satisfied: pyparsing!=3.0.5,>=2.0.2 in c:\\users\\charan\\anaconda3\\lib\\site-packages (from packaging->pytest->pytest-shutil) (3.0.4)\n",
      "Installing collected packages: tomli, termcolor, pluggy, path, mock, iniconfig, execnet, exceptiongroup, contextlib2, pytest, path.py, pytest-shutil\n",
      "Successfully installed contextlib2-21.6.0 exceptiongroup-1.1.0 execnet-1.9.0 iniconfig-2.0.0 mock-5.0.1 path-16.6.0 path.py-12.5.0 pluggy-1.0.0 pytest-7.2.1 pytest-shutil-1.7.0 termcolor-2.2.0 tomli-2.0.1\n"
     ]
    },
    {
     "name": "stderr",
     "output_type": "stream",
     "text": [
      "\n",
      "[notice] A new release of pip available: 22.2.2 -> 22.3.1\n",
      "[notice] To update, run: python.exe -m pip install --upgrade pip\n"
     ]
    }
   ],
   "source": [
    "!pip install shutils\n",
    "!pip install pytest-shutil"
   ]
  }
 ],
 "metadata": {
  "kernelspec": {
   "display_name": "Python 3 (ipykernel)",
   "language": "python",
   "name": "python3"
  },
  "language_info": {
   "codemirror_mode": {
    "name": "ipython",
    "version": 3
   },
   "file_extension": ".py",
   "mimetype": "text/x-python",
   "name": "python",
   "nbconvert_exporter": "python",
   "pygments_lexer": "ipython3",
   "version": "3.9.12"
  }
 },
 "nbformat": 4,
 "nbformat_minor": 5
}
