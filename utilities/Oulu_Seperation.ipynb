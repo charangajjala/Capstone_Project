{
 "cells": [
  {
   "cell_type": "code",
   "execution_count": 1,
   "id": "615f7572",
   "metadata": {},
   "outputs": [],
   "source": [
    "import os\n",
    "import glob\n",
    "import shutil\n",
    "import numpy as np\n",
    "import pandas as pd\n",
    "import pathlib\n",
    " \n"
   ]
  },
  {
   "cell_type": "code",
   "execution_count": 4,
   "id": "d70ce6f9",
   "metadata": {},
   "outputs": [],
   "source": [
    "protocol = 'protocol4'\n",
    "color_spaces = ['RGB', 'YCrCb', 'HSV', 'Grey', 'LAB']\n",
    "csv_main_path = 'C:\\\\Users\\\\Charan\\\\Desktop\\\\Capstone\\\\Data\\\\protocol_csvs\\\\'\n",
    "subs = [1,2,3,4,5,6]\n",
    "\n",
    "for sub in subs:\n",
    "    \n",
    "    for color_space in color_spaces:\n",
    "\n",
    "            main_src = f'C:\\\\Users\\\\Charan\\\\Desktop\\\\Capstone\\\\Data\\\\ColorSpace_Datasets\\\\Source_ColorSpaces\\\\{color_space}_LBP\\\\'\n",
    "            main_dest = f'C:\\\\Users\\\\Charan\\\\Desktop\\\\Capstone\\\\Data\\\\ColorSpace_Datasets\\\\LBP_ColorSpaces\\\\{protocol.capitalize()}.{sub}\\\\{protocol.capitalize()}.{sub}_{color_space}_Seperated_undersampled\\\\'\n",
    "\n",
    "            for typ in ['dev','test','train']:\n",
    "                src = f\"{main_src}{typ}\\\\\"\n",
    "                \n",
    "                if typ == 'train':\n",
    "                  csv_path = f\"{csv_main_path}{protocol}\\\\{protocol.capitalize()}_{typ}_{sub}_undersampled.csv\"   \n",
    "                else:\n",
    "                  csv_path = f\"{csv_main_path}{protocol}\\\\{protocol.capitalize()}_{typ}_{sub}.csv\"  \n",
    "                \n",
    "                Docdf = pd.read_csv(csv_path)\n",
    "                destpath_true = f\"{main_dest}{typ}\\\\true\\\\\"\n",
    "                destpath_fake = f\"{main_dest}{typ}\\\\fake\\\\\"\n",
    "                pathlib.Path(destpath_fake).mkdir(parents=True, exist_ok=True)\n",
    "                pathlib.Path(destpath_true).mkdir(parents=True, exist_ok=True)\n",
    "                \n",
    "                idx = 0 if typ=='train' else 1\n",
    "\n",
    "                def copying(row):\n",
    "                    if (row[idx+1]==1):\n",
    "                        oldpath = src + row[idx] # column E\n",
    "                        newpath = destpath_true + row[idx] # column B\n",
    "                        shutil.copyfile(oldpath, newpath)\n",
    "\n",
    "                    elif (row[idx+1] <0):\n",
    "                        oldpath = src + row[idx] # column E\n",
    "                        newpath = destpath_fake + row[idx] # column B\n",
    "                        shutil.copyfile(oldpath, newpath)\n",
    "\n",
    "                    return newpath\n",
    "\n",
    "                Docdf['new_path'] = Docdf.apply(copying, axis=1)\n",
    "\n",
    "    "
   ]
  }
 ],
 "metadata": {
  "kernelspec": {
   "display_name": "Python 3 (ipykernel)",
   "language": "python",
   "name": "python3"
  },
  "language_info": {
   "codemirror_mode": {
    "name": "ipython",
    "version": 3
   },
   "file_extension": ".py",
   "mimetype": "text/x-python",
   "name": "python",
   "nbconvert_exporter": "python",
   "pygments_lexer": "ipython3",
   "version": "3.9.12"
  }
 },
 "nbformat": 4,
 "nbformat_minor": 5
}
